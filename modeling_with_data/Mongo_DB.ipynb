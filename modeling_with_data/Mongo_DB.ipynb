{
 "cells": [
  {
   "cell_type": "markdown",
   "metadata": {},
   "source": [
    "# Volume 3: MongoDB.\n",
    "    Ben Christensen\n",
    "    Math 403\n",
    "    December 18, 2018"
   ]
  },
  {
   "cell_type": "code",
   "execution_count": 1,
   "metadata": {
    "collapsed": true
   },
   "outputs": [],
   "source": [
    "import re\n",
    "import json\n",
    "from pymongo import MongoClient\n",
    "from datetime import datetime\n",
    "import numpy as np\n",
    "import warnings\n",
    "warnings.filterwarnings('ignore')"
   ]
  },
  {
   "cell_type": "markdown",
   "metadata": {},
   "source": [
    "## Problem 1\n",
    "\n",
    "The file `trump.json` contains posts from http://www.twitter.com (tweets) over the course of an hour that have the key word \"trump\".\n",
    "Each line in the file is a single JSON message that can be loaded with `json.loads()`.\n",
    "\n",
    "Create a MongoDB database and initialize a collection in the database.\n",
    "Use the collection's `delete_many()` method with an empy set as input to clear existing contents of the collection, then fill the collection one line at a time with the data from `trump.json`.\n",
    "Check that your collection has 95,643 entries with its `count()` method."
   ]
  },
  {
   "cell_type": "code",
   "execution_count": 2,
   "metadata": {},
   "outputs": [],
   "source": [
    "#Load the json file of Trump tweets\n",
    "tweets = list()\n",
    "with open(\"trump.json\", 'r') as infile:\n",
    "    for line in infile:\n",
    "        tweets.append(json.loads(line))    "
   ]
  },
  {
   "cell_type": "code",
   "execution_count": 3,
   "metadata": {},
   "outputs": [
    {
     "data": {
      "text/plain": [
       "<pymongo.results.DeleteResult at 0x1755d3ec8>"
      ]
     },
     "execution_count": 3,
     "metadata": {},
     "output_type": "execute_result"
    }
   ],
   "source": [
    "#Initialize the Mongo database and make sure its collection is empty\n",
    "client = MongoClient()\n",
    "db = client.db1\n",
    "col = db.collection1\n",
    "col.delete_many(dict())"
   ]
  },
  {
   "cell_type": "code",
   "execution_count": 4,
   "metadata": {
    "collapsed": true
   },
   "outputs": [],
   "source": [
    "#Write trump tweets to the collection\n",
    "for tweet in tweets:\n",
    "    col.insert_one(tweet)"
   ]
  },
  {
   "cell_type": "code",
   "execution_count": 5,
   "metadata": {},
   "outputs": [
    {
     "data": {
      "text/plain": [
       "95643"
      ]
     },
     "execution_count": 5,
     "metadata": {},
     "output_type": "execute_result"
    }
   ],
   "source": [
    "col.count()"
   ]
  },
  {
   "cell_type": "markdown",
   "metadata": {},
   "source": [
    "## Problem 2\n",
    "\n",
    "Query the Twitter collection for the following information.\n",
    "- How many tweets include the word Russia? Use `re.IGNORECASE`.\n",
    "- How many tweets came from one of the main continental US time zones? These are listed as `\"Central Time (US & Canada)\"`, `\"Pacific Time (US & Canada)\"`, `\"Eastern Time (US & Canada)\"`, and `\"Mountain Time (US & Canada)\"`.\n",
    "- How often does each language occur? Construct a dictionary with each language and it’s frequency count."
   ]
  },
  {
   "cell_type": "markdown",
   "metadata": {},
   "source": [
    "### (i)"
   ]
  },
  {
   "cell_type": "code",
   "execution_count": 6,
   "metadata": {},
   "outputs": [],
   "source": [
    "#Find every tweet that mentions Russia\n",
    "results = col.count_documents({\"text\":{\"$regex\":re.compile(\"russia\", re.IGNORECASE)}})"
   ]
  },
  {
   "cell_type": "code",
   "execution_count": 7,
   "metadata": {},
   "outputs": [
    {
     "name": "stdout",
     "output_type": "stream",
     "text": [
      "The number of tweets including the word 'Russia':\n",
      "5841\n"
     ]
    }
   ],
   "source": [
    "print(\"The number of tweets including the word 'Russia':\")\n",
    "print(results)"
   ]
  },
  {
   "cell_type": "markdown",
   "metadata": {},
   "source": [
    "### (ii)"
   ]
  },
  {
   "cell_type": "code",
   "execution_count": 8,
   "metadata": {
    "collapsed": true
   },
   "outputs": [],
   "source": [
    "#Find the number of tweets coming from the following time zones\n",
    "US_time_zones = [\"Central Time (US & Canada)\", \"Pacific Time (US & Canada)\",\n",
    "                 \"Eastern Time (US & Canada)\", \"Mountain Time (US & Canada)\"]\n",
    "results = col.count_documents({'user.time_zone': {'$in':US_time_zones}})"
   ]
  },
  {
   "cell_type": "code",
   "execution_count": 9,
   "metadata": {},
   "outputs": [
    {
     "name": "stdout",
     "output_type": "stream",
     "text": [
      "The number of tweets coming from the main continental US time zones:\n",
      "33939\n"
     ]
    }
   ],
   "source": [
    "print(\"The number of tweets coming from the main continental US time zones:\")\n",
    "print(results)"
   ]
  },
  {
   "cell_type": "code",
   "execution_count": 10,
   "metadata": {},
   "outputs": [
    {
     "name": "stdout",
     "output_type": "stream",
     "text": [
      "en: 84919\n",
      "fr: 1235\n",
      "es: 3027\n",
      "tr: 588\n",
      "nl: 212\n",
      "pt: 632\n",
      "und: 1653\n",
      "it: 423\n",
      "de: 635\n",
      "da: 35\n",
      "zh: 1\n",
      "ru: 29\n",
      "pl: 108\n",
      "no: 21\n",
      "eu: 6\n",
      "tl: 48\n",
      "in: 121\n",
      "cs: 13\n",
      "ht: 21\n",
      "ro: 21\n",
      "sl: 3\n",
      "sv: 55\n",
      "fi: 20\n",
      "ar: 30\n",
      "et: 23\n",
      "lt: 8\n",
      "hu: 6\n",
      "el: 10\n",
      "ja: 17\n",
      "lv: 2\n",
      "vi: 7\n",
      "fa: 5\n",
      "ko: 2\n",
      "ur: 1\n",
      "cy: 2\n",
      "th: 3\n",
      "is: 1\n",
      "iw: 1\n",
      "uk: 3\n"
     ]
    }
   ],
   "source": [
    "#Find the number of tweets written in each language\n",
    "languages = col.distinct('lang')\n",
    "lang_counts = dict()\n",
    "for lang in languages:\n",
    "    lang_counts[lang] = col.count_documents({'lang':lang})\n",
    "    print(lang,': ', lang_counts[lang], sep='')\n"
   ]
  },
  {
   "cell_type": "markdown",
   "metadata": {},
   "source": [
    "## Problem 3\n",
    "\n",
    "Query the Twitter collection from Problem 1 for the following information.\n",
    "- What are the usernames of the 5 most popular (defined as having the most followers) tweeters? Don’t include repeats.\n",
    "- Of the tweets containing at least 5 hashtags, sort the tweets by how early the 5th hashtag appears in the text. What is the earliest spot (character count) it appears?\n",
    "- What are the coordinates of the tweet that came from the northernmost location? Use the latitude and longitude point in `\"coordinates\"`."
   ]
  },
  {
   "cell_type": "markdown",
   "metadata": {},
   "source": [
    "### (i)"
   ]
  },
  {
   "cell_type": "code",
   "execution_count": 11,
   "metadata": {
    "scrolled": false
   },
   "outputs": [
    {
     "name": "stdout",
     "output_type": "stream",
     "text": [
      "Top 5 Most Popular Tweeters with their number of followers\n",
      "CNN: 35481010\n",
      "Reuters Top News: 17821353\n",
      "Fox News: 14663497\n",
      "Wall Street Journal: 14023091\n",
      "TIME: 14017299\n"
     ]
    }
   ],
   "source": [
    "#Find 5 most popular tweeters mentioning trump\n",
    "print(\"Top 5 Most Popular Tweeters with their number of followers\")\n",
    "results = col.find({'user.followers_count':{'$exists':True}}).sort('user.followers_count', -1)\n",
    "tweet = results[0]\n",
    "print(tweet['user']['name'], ': ', tweet['user']['followers_count'], sep='')\n",
    "tweet = results[1]\n",
    "print(tweet['user']['name'], ': ', tweet['user']['followers_count'], sep='')\n",
    "tweet = results[2]\n",
    "print(tweet['user']['name'], ': ', tweet['user']['followers_count'], sep='')\n",
    "tweet = results[3]\n",
    "print(tweet['user']['name'], ': ', tweet['user']['followers_count'], sep='')\n",
    "#4 and 5 are also Wall Street Journal\n",
    "tweet = results[6]\n",
    "print(tweet['user']['name'], ': ', tweet['user']['followers_count'], sep='')"
   ]
  },
  {
   "cell_type": "markdown",
   "metadata": {},
   "source": [
    "### (ii)"
   ]
  },
  {
   "cell_type": "code",
   "execution_count": 12,
   "metadata": {
    "collapsed": true
   },
   "outputs": [],
   "source": [
    "#Sort the tweets to find the tweet with the earliest 5th hashtag\n",
    "results = col.find({'entities.hashtags.4':{'$exists':True}}).sort('entities.hashtags.4.indices.0')"
   ]
  },
  {
   "cell_type": "code",
   "execution_count": 13,
   "metadata": {},
   "outputs": [
    {
     "name": "stdout",
     "output_type": "stream",
     "text": [
      "The earliest spot the 5th hashtag appears:\n",
      "23\n"
     ]
    }
   ],
   "source": [
    "print(\"The earliest spot the 5th hashtag appears:\")\n",
    "print(results[0]['entities']['hashtags'][4]['indices'][0])"
   ]
  },
  {
   "cell_type": "markdown",
   "metadata": {},
   "source": [
    "### (iii)"
   ]
  },
  {
   "cell_type": "code",
   "execution_count": 14,
   "metadata": {},
   "outputs": [],
   "source": [
    "#find the tweet that came from the noternmost location\n",
    "results = col.find({'coordinates.coordinates.0':{'$ne':None}}).sort('coordinates.coordinates.0', -1)"
   ]
  },
  {
   "cell_type": "code",
   "execution_count": 15,
   "metadata": {},
   "outputs": [
    {
     "name": "stdout",
     "output_type": "stream",
     "text": [
      "Coordinates for the tweet that came from the northernmost location:\n",
      "[28.99237342, 41.06803023]\n"
     ]
    }
   ],
   "source": [
    "print(\"Coordinates for the tweet that came from the northernmost location:\")\n",
    "print(results[0]['coordinates']['coordinates'])"
   ]
  },
  {
   "cell_type": "markdown",
   "metadata": {},
   "source": [
    "## Problem 4\n",
    "\n",
    "Clean the Twitter collection in the following ways.\n",
    "\n",
    "- Get rid of the `\"retweeted_status\"` field in each tweet.\n",
    "- Update every tweet from someone with at least 1000 followers to include a popular field whose value is True. Report the number of popular tweets.\n",
    "- (OPTIONAL) The geographical coordinates used before in coordinates.coordinates are turned off for most tweets. But many more have a bounding box around the coordinates in the place field. Update every tweet without coordinates that contains a bounding box so that the coordinates contains the average value of the points that form the bounding box. Make the structure of coordinates the same as the others, so it contains coordinates with a longitude, latitude array and a type, the value of which should be ’Point’."
   ]
  },
  {
   "cell_type": "code",
   "execution_count": 16,
   "metadata": {},
   "outputs": [
    {
     "data": {
      "text/plain": [
       "<pymongo.results.UpdateResult at 0x1755c7e88>"
      ]
     },
     "execution_count": 16,
     "metadata": {},
     "output_type": "execute_result"
    }
   ],
   "source": [
    "#Remove the 'retweeted_status' field from every tweet\n",
    "#print(col.count_documents({'retweeted_status':{'$exists':True}}))\n",
    "col.update_many({'retweeted_status':{'$exists':True}}, {'$unset': {'retweeted_status':''}})\n",
    "#print(col.count_documents({'retweeted_status':{'$exists':True}}))"
   ]
  },
  {
   "cell_type": "code",
   "execution_count": 17,
   "metadata": {},
   "outputs": [
    {
     "name": "stdout",
     "output_type": "stream",
     "text": [
      "The Number of popular tweets (>= 1000 followers)\n",
      "32489\n"
     ]
    }
   ],
   "source": [
    "#Add an attribute called 'popular' that is True if user has at least\n",
    "#    1000 followers.\n",
    "#print(col.count_documents({'user.followers_count':{'$gte':1000}}))\n",
    "col.update_many({'user.followers_count':{'$gte':1000}}, {'$set':{'popular':True}})\n",
    "print(\"The Number of popular tweets (>= 1000 followers)\")\n",
    "print(col.count_documents({'popular':True}))"
   ]
  }
 ],
 "metadata": {
  "kernelspec": {
   "display_name": "Python 3",
   "language": "python",
   "name": "python3"
  },
  "language_info": {
   "codemirror_mode": {
    "name": "ipython",
    "version": 3
   },
   "file_extension": ".py",
   "mimetype": "text/x-python",
   "name": "python",
   "nbconvert_exporter": "python",
   "pygments_lexer": "ipython3",
   "version": "3.6.1"
  }
 },
 "nbformat": 4,
 "nbformat_minor": 2
}
