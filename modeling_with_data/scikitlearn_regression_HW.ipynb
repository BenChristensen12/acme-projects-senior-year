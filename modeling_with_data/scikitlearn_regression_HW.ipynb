{
 "cells": [
  {
   "cell_type": "markdown",
   "metadata": {},
   "source": [
    "    Ben Christensen\n",
    "    Math 402\n",
    "    November 30, 2018\n"
   ]
  },
  {
   "cell_type": "code",
   "execution_count": 40,
   "metadata": {},
   "outputs": [],
   "source": [
    "import pandas as pd\n",
    "import statsmodels.api as sm\n",
    "import numpy as np\n",
    "from sklearn import linear_model\n",
    "from sklearn.model_selection import train_test_split, KFold\n",
    "from itertools import combinations"
   ]
  },
  {
   "cell_type": "markdown",
   "metadata": {},
   "source": [
    "## 4.12"
   ]
  },
  {
   "cell_type": "code",
   "execution_count": 2,
   "metadata": {},
   "outputs": [
    {
     "data": {
      "text/html": [
       "<div>\n",
       "<style>\n",
       "    .dataframe thead tr:only-child th {\n",
       "        text-align: right;\n",
       "    }\n",
       "\n",
       "    .dataframe thead th {\n",
       "        text-align: left;\n",
       "    }\n",
       "\n",
       "    .dataframe tbody tr th {\n",
       "        vertical-align: top;\n",
       "    }\n",
       "</style>\n",
       "<table border=\"1\" class=\"dataframe\">\n",
       "  <thead>\n",
       "    <tr style=\"text-align: right;\">\n",
       "      <th></th>\n",
       "      <th>wage</th>\n",
       "      <th>educ</th>\n",
       "      <th>exper</th>\n",
       "      <th>tenure</th>\n",
       "      <th>nonwhite</th>\n",
       "      <th>female</th>\n",
       "      <th>married</th>\n",
       "      <th>numdep</th>\n",
       "      <th>smsa</th>\n",
       "      <th>northcen</th>\n",
       "      <th>...</th>\n",
       "      <th>trcommpu</th>\n",
       "      <th>trade</th>\n",
       "      <th>services</th>\n",
       "      <th>profserv</th>\n",
       "      <th>profocc</th>\n",
       "      <th>clerocc</th>\n",
       "      <th>servocc</th>\n",
       "      <th>lwage</th>\n",
       "      <th>expersq</th>\n",
       "      <th>tenursq</th>\n",
       "    </tr>\n",
       "  </thead>\n",
       "  <tbody>\n",
       "    <tr>\n",
       "      <th>0</th>\n",
       "      <td>3.10</td>\n",
       "      <td>11</td>\n",
       "      <td>2</td>\n",
       "      <td>0</td>\n",
       "      <td>0</td>\n",
       "      <td>1</td>\n",
       "      <td>0</td>\n",
       "      <td>2</td>\n",
       "      <td>1</td>\n",
       "      <td>0</td>\n",
       "      <td>...</td>\n",
       "      <td>0</td>\n",
       "      <td>0</td>\n",
       "      <td>0</td>\n",
       "      <td>0</td>\n",
       "      <td>0</td>\n",
       "      <td>0</td>\n",
       "      <td>0</td>\n",
       "      <td>1.131402</td>\n",
       "      <td>4</td>\n",
       "      <td>0</td>\n",
       "    </tr>\n",
       "    <tr>\n",
       "      <th>1</th>\n",
       "      <td>3.24</td>\n",
       "      <td>12</td>\n",
       "      <td>22</td>\n",
       "      <td>2</td>\n",
       "      <td>0</td>\n",
       "      <td>1</td>\n",
       "      <td>1</td>\n",
       "      <td>3</td>\n",
       "      <td>1</td>\n",
       "      <td>0</td>\n",
       "      <td>...</td>\n",
       "      <td>0</td>\n",
       "      <td>0</td>\n",
       "      <td>1</td>\n",
       "      <td>0</td>\n",
       "      <td>0</td>\n",
       "      <td>0</td>\n",
       "      <td>1</td>\n",
       "      <td>1.175573</td>\n",
       "      <td>484</td>\n",
       "      <td>4</td>\n",
       "    </tr>\n",
       "    <tr>\n",
       "      <th>2</th>\n",
       "      <td>3.00</td>\n",
       "      <td>11</td>\n",
       "      <td>2</td>\n",
       "      <td>0</td>\n",
       "      <td>0</td>\n",
       "      <td>0</td>\n",
       "      <td>0</td>\n",
       "      <td>2</td>\n",
       "      <td>0</td>\n",
       "      <td>0</td>\n",
       "      <td>...</td>\n",
       "      <td>0</td>\n",
       "      <td>1</td>\n",
       "      <td>0</td>\n",
       "      <td>0</td>\n",
       "      <td>0</td>\n",
       "      <td>0</td>\n",
       "      <td>0</td>\n",
       "      <td>1.098612</td>\n",
       "      <td>4</td>\n",
       "      <td>0</td>\n",
       "    </tr>\n",
       "    <tr>\n",
       "      <th>3</th>\n",
       "      <td>6.00</td>\n",
       "      <td>8</td>\n",
       "      <td>44</td>\n",
       "      <td>28</td>\n",
       "      <td>0</td>\n",
       "      <td>0</td>\n",
       "      <td>1</td>\n",
       "      <td>0</td>\n",
       "      <td>1</td>\n",
       "      <td>0</td>\n",
       "      <td>...</td>\n",
       "      <td>0</td>\n",
       "      <td>0</td>\n",
       "      <td>0</td>\n",
       "      <td>0</td>\n",
       "      <td>0</td>\n",
       "      <td>1</td>\n",
       "      <td>0</td>\n",
       "      <td>1.791759</td>\n",
       "      <td>1936</td>\n",
       "      <td>784</td>\n",
       "    </tr>\n",
       "    <tr>\n",
       "      <th>4</th>\n",
       "      <td>5.30</td>\n",
       "      <td>12</td>\n",
       "      <td>7</td>\n",
       "      <td>2</td>\n",
       "      <td>0</td>\n",
       "      <td>0</td>\n",
       "      <td>1</td>\n",
       "      <td>1</td>\n",
       "      <td>0</td>\n",
       "      <td>0</td>\n",
       "      <td>...</td>\n",
       "      <td>0</td>\n",
       "      <td>0</td>\n",
       "      <td>0</td>\n",
       "      <td>0</td>\n",
       "      <td>0</td>\n",
       "      <td>0</td>\n",
       "      <td>0</td>\n",
       "      <td>1.667707</td>\n",
       "      <td>49</td>\n",
       "      <td>4</td>\n",
       "    </tr>\n",
       "    <tr>\n",
       "      <th>5</th>\n",
       "      <td>8.75</td>\n",
       "      <td>16</td>\n",
       "      <td>9</td>\n",
       "      <td>8</td>\n",
       "      <td>0</td>\n",
       "      <td>0</td>\n",
       "      <td>1</td>\n",
       "      <td>0</td>\n",
       "      <td>1</td>\n",
       "      <td>0</td>\n",
       "      <td>...</td>\n",
       "      <td>0</td>\n",
       "      <td>0</td>\n",
       "      <td>0</td>\n",
       "      <td>1</td>\n",
       "      <td>1</td>\n",
       "      <td>0</td>\n",
       "      <td>0</td>\n",
       "      <td>2.169054</td>\n",
       "      <td>81</td>\n",
       "      <td>64</td>\n",
       "    </tr>\n",
       "    <tr>\n",
       "      <th>6</th>\n",
       "      <td>11.25</td>\n",
       "      <td>18</td>\n",
       "      <td>15</td>\n",
       "      <td>7</td>\n",
       "      <td>0</td>\n",
       "      <td>0</td>\n",
       "      <td>0</td>\n",
       "      <td>0</td>\n",
       "      <td>1</td>\n",
       "      <td>0</td>\n",
       "      <td>...</td>\n",
       "      <td>0</td>\n",
       "      <td>1</td>\n",
       "      <td>0</td>\n",
       "      <td>0</td>\n",
       "      <td>1</td>\n",
       "      <td>0</td>\n",
       "      <td>0</td>\n",
       "      <td>2.420368</td>\n",
       "      <td>225</td>\n",
       "      <td>49</td>\n",
       "    </tr>\n",
       "    <tr>\n",
       "      <th>7</th>\n",
       "      <td>5.00</td>\n",
       "      <td>12</td>\n",
       "      <td>5</td>\n",
       "      <td>3</td>\n",
       "      <td>0</td>\n",
       "      <td>1</td>\n",
       "      <td>0</td>\n",
       "      <td>0</td>\n",
       "      <td>1</td>\n",
       "      <td>0</td>\n",
       "      <td>...</td>\n",
       "      <td>0</td>\n",
       "      <td>0</td>\n",
       "      <td>0</td>\n",
       "      <td>0</td>\n",
       "      <td>1</td>\n",
       "      <td>0</td>\n",
       "      <td>0</td>\n",
       "      <td>1.609438</td>\n",
       "      <td>25</td>\n",
       "      <td>9</td>\n",
       "    </tr>\n",
       "    <tr>\n",
       "      <th>8</th>\n",
       "      <td>3.60</td>\n",
       "      <td>12</td>\n",
       "      <td>26</td>\n",
       "      <td>4</td>\n",
       "      <td>0</td>\n",
       "      <td>1</td>\n",
       "      <td>0</td>\n",
       "      <td>2</td>\n",
       "      <td>1</td>\n",
       "      <td>0</td>\n",
       "      <td>...</td>\n",
       "      <td>0</td>\n",
       "      <td>1</td>\n",
       "      <td>0</td>\n",
       "      <td>0</td>\n",
       "      <td>1</td>\n",
       "      <td>0</td>\n",
       "      <td>0</td>\n",
       "      <td>1.280934</td>\n",
       "      <td>676</td>\n",
       "      <td>16</td>\n",
       "    </tr>\n",
       "    <tr>\n",
       "      <th>9</th>\n",
       "      <td>18.18</td>\n",
       "      <td>17</td>\n",
       "      <td>22</td>\n",
       "      <td>21</td>\n",
       "      <td>0</td>\n",
       "      <td>0</td>\n",
       "      <td>1</td>\n",
       "      <td>0</td>\n",
       "      <td>1</td>\n",
       "      <td>0</td>\n",
       "      <td>...</td>\n",
       "      <td>0</td>\n",
       "      <td>0</td>\n",
       "      <td>0</td>\n",
       "      <td>0</td>\n",
       "      <td>1</td>\n",
       "      <td>0</td>\n",
       "      <td>0</td>\n",
       "      <td>2.900322</td>\n",
       "      <td>484</td>\n",
       "      <td>441</td>\n",
       "    </tr>\n",
       "  </tbody>\n",
       "</table>\n",
       "<p>10 rows × 24 columns</p>\n",
       "</div>"
      ],
      "text/plain": [
       "    wage  educ  exper  tenure  nonwhite  female  married  numdep  smsa  \\\n",
       "0   3.10    11      2       0         0       1        0       2     1   \n",
       "1   3.24    12     22       2         0       1        1       3     1   \n",
       "2   3.00    11      2       0         0       0        0       2     0   \n",
       "3   6.00     8     44      28         0       0        1       0     1   \n",
       "4   5.30    12      7       2         0       0        1       1     0   \n",
       "5   8.75    16      9       8         0       0        1       0     1   \n",
       "6  11.25    18     15       7         0       0        0       0     1   \n",
       "7   5.00    12      5       3         0       1        0       0     1   \n",
       "8   3.60    12     26       4         0       1        0       2     1   \n",
       "9  18.18    17     22      21         0       0        1       0     1   \n",
       "\n",
       "   northcen   ...     trcommpu  trade  services  profserv  profocc  clerocc  \\\n",
       "0         0   ...            0      0         0         0        0        0   \n",
       "1         0   ...            0      0         1         0        0        0   \n",
       "2         0   ...            0      1         0         0        0        0   \n",
       "3         0   ...            0      0         0         0        0        1   \n",
       "4         0   ...            0      0         0         0        0        0   \n",
       "5         0   ...            0      0         0         1        1        0   \n",
       "6         0   ...            0      1         0         0        1        0   \n",
       "7         0   ...            0      0         0         0        1        0   \n",
       "8         0   ...            0      1         0         0        1        0   \n",
       "9         0   ...            0      0         0         0        1        0   \n",
       "\n",
       "   servocc     lwage  expersq  tenursq  \n",
       "0        0  1.131402        4        0  \n",
       "1        1  1.175573      484        4  \n",
       "2        0  1.098612        4        0  \n",
       "3        0  1.791759     1936      784  \n",
       "4        0  1.667707       49        4  \n",
       "5        0  2.169054       81       64  \n",
       "6        0  2.420368      225       49  \n",
       "7        0  1.609438       25        9  \n",
       "8        0  1.280934      676       16  \n",
       "9        0  2.900322      484      441  \n",
       "\n",
       "[10 rows x 24 columns]"
      ]
     },
     "execution_count": 2,
     "metadata": {},
     "output_type": "execute_result"
    }
   ],
   "source": [
    "df = pd.read_csv(\"wages.csv\")\n",
    "df.head(n=10)"
   ]
  },
  {
   "cell_type": "markdown",
   "metadata": {},
   "source": [
    "## (i)"
   ]
  },
  {
   "cell_type": "code",
   "execution_count": 3,
   "metadata": {
    "collapsed": true
   },
   "outputs": [],
   "source": [
    "x = df[[\"educ\", \"exper\", \"tenure\", \"married\", \"female\"]]\n",
    "x = sm.add_constant(x, prepend=False)\n",
    "y = df[\"wage\"]"
   ]
  },
  {
   "cell_type": "code",
   "execution_count": 4,
   "metadata": {},
   "outputs": [
    {
     "name": "stdout",
     "output_type": "stream",
     "text": [
      "                            OLS Regression Results                            \n",
      "==============================================================================\n",
      "Dep. Variable:                   wage   R-squared:                       0.368\n",
      "Model:                            OLS   Adj. R-squared:                  0.362\n",
      "Method:                 Least Squares   F-statistic:                     60.61\n",
      "Date:                Fri, 30 Nov 2018   Prob (F-statistic):           1.02e-49\n",
      "Time:                        10:10:17   Log-Likelihood:                -1312.3\n",
      "No. Observations:                 526   AIC:                             2637.\n",
      "Df Residuals:                     520   BIC:                             2662.\n",
      "Df Model:                           5                                         \n",
      "Covariance Type:            nonrobust                                         \n",
      "==============================================================================\n",
      "                 coef    std err          t      P>|t|      [0.025      0.975]\n",
      "------------------------------------------------------------------------------\n",
      "educ           0.5557      0.050     11.144      0.000       0.458       0.654\n",
      "exper          0.0187      0.012      1.558      0.120      -0.005       0.042\n",
      "tenure         0.1388      0.021      6.566      0.000       0.097       0.180\n",
      "married        0.5592      0.286      1.956      0.051      -0.003       1.121\n",
      "female        -1.7414      0.266     -6.535      0.000      -2.265      -1.218\n",
      "const         -1.6182      0.723     -2.238      0.026      -3.039      -0.198\n",
      "==============================================================================\n",
      "Omnibus:                      188.464   Durbin-Watson:                   1.795\n",
      "Prob(Omnibus):                  0.000   Jarque-Bera (JB):              730.151\n",
      "Skew:                           1.611   Prob(JB):                    2.82e-159\n",
      "Kurtosis:                       7.789   Cond. No.                         141.\n",
      "==============================================================================\n",
      "\n",
      "Warnings:\n",
      "[1] Standard Errors assume that the covariance matrix of the errors is correctly specified.\n"
     ]
    }
   ],
   "source": [
    "mod = sm.OLS(y, x)\n",
    "res = mod.fit()\n",
    "print(res.summary())"
   ]
  },
  {
   "cell_type": "markdown",
   "metadata": {},
   "source": [
    "The coefficient on female decreases in absolute value. Therefore the other variables I added to the model are correlated with female and wage. Omitting them caused omitted variable bias.\n",
    "\n",
    "R-squared increased significantly from .116 to .368. This is meaningful because this model explains more of the variability in the data. Education, tenure, and female are all significant to the .001 confidence level. Married is significant to a 90% confidence and exper is not significant to a 90% confidence standard."
   ]
  },
  {
   "cell_type": "markdown",
   "metadata": {},
   "source": [
    "## (ii)"
   ]
  },
  {
   "cell_type": "code",
   "execution_count": 5,
   "metadata": {
    "collapsed": true
   },
   "outputs": [],
   "source": [
    "df[\"married*female\"] = df[\"married\"]*df[\"female\"]"
   ]
  },
  {
   "cell_type": "code",
   "execution_count": 6,
   "metadata": {},
   "outputs": [
    {
     "name": "stdout",
     "output_type": "stream",
     "text": [
      "                            OLS Regression Results                            \n",
      "==============================================================================\n",
      "Dep. Variable:                   wage   R-squared:                       0.392\n",
      "Model:                            OLS   Adj. R-squared:                  0.385\n",
      "Method:                 Least Squares   F-statistic:                     55.84\n",
      "Date:                Fri, 30 Nov 2018   Prob (F-statistic):           3.90e-53\n",
      "Time:                        10:10:17   Log-Likelihood:                -1302.1\n",
      "No. Observations:                 526   AIC:                             2618.\n",
      "Df Residuals:                     519   BIC:                             2648.\n",
      "Df Model:                           6                                         \n",
      "Covariance Type:            nonrobust                                         \n",
      "==================================================================================\n",
      "                     coef    std err          t      P>|t|      [0.025      0.975]\n",
      "----------------------------------------------------------------------------------\n",
      "educ               0.5529      0.049     11.293      0.000       0.457       0.649\n",
      "exper              0.0190      0.012      1.607      0.109      -0.004       0.042\n",
      "tenure             0.1298      0.021      6.228      0.000       0.089       0.171\n",
      "married            1.8219      0.395      4.610      0.000       1.045       2.598\n",
      "female            -0.3085      0.410     -0.752      0.452      -1.114       0.497\n",
      "married*female    -2.3953      0.528     -4.538      0.000      -3.432      -1.358\n",
      "const             -2.3942      0.730     -3.279      0.001      -3.829      -0.960\n",
      "==============================================================================\n",
      "Omnibus:                      184.455   Durbin-Watson:                   1.775\n",
      "Prob(Omnibus):                  0.000   Jarque-Bera (JB):              694.903\n",
      "Skew:                           1.585   Prob(JB):                    1.27e-151\n",
      "Kurtosis:                       7.654   Cond. No.                         160.\n",
      "==============================================================================\n",
      "\n",
      "Warnings:\n",
      "[1] Standard Errors assume that the covariance matrix of the errors is correctly specified.\n"
     ]
    }
   ],
   "source": [
    "x = df[[\"educ\", \"exper\", \"tenure\", \"married\", \"female\", \"married*female\"]]\n",
    "x = sm.add_constant(x, prepend=False)\n",
    "y = df[\"wage\"]\n",
    "mod = sm.OLS(y, x)\n",
    "res = mod.fit()\n",
    "print(res.summary())"
   ]
  },
  {
   "cell_type": "markdown",
   "metadata": {},
   "source": [
    "The coefficient on female decreases even more in absolute value. The coefficient on marriedxfemale is -2.3953. There is possibly wage discrimination against women who are married. It's less likely to occur against single women. (Some research in labor economics shows the wage differences between men and women is due to preferences in flexibility of work schedule. Additional research shows occupation choice explains much of the difference). \n",
    "\n",
    "Education and tenure are still significant with 99.9% confidence. Now married and femalexmarried are also significant at that level. Female is no longer significant with even  60% confidence. Experience still does not satisfy significance with 90% confidence.\n",
    "\n",
    "The interaction term requires a little nuance in interpreting the results. Ceterus paribus, the difference between a single man and a married woman would be + 1.8219 - 0.3085 - 2.3953 = -0.8819 ."
   ]
  },
  {
   "cell_type": "markdown",
   "metadata": {},
   "source": [
    "## 4.13"
   ]
  },
  {
   "cell_type": "code",
   "execution_count": 8,
   "metadata": {},
   "outputs": [
    {
     "name": "stdout",
     "output_type": "stream",
     "text": [
      "                            OLS Regression Results                            \n",
      "==============================================================================\n",
      "Dep. Variable:                   wage   R-squared:                       0.393\n",
      "Model:                            OLS   Adj. R-squared:                  0.384\n",
      "Method:                 Least Squares   F-statistic:                     41.90\n",
      "Date:                Fri, 30 Nov 2018   Prob (F-statistic):           1.42e-51\n",
      "Time:                        10:10:36   Log-Likelihood:                -1301.6\n",
      "No. Observations:                 526   AIC:                             2621.\n",
      "Df Residuals:                     517   BIC:                             2660.\n",
      "Df Model:                           8                                         \n",
      "Covariance Type:            nonrobust                                         \n",
      "==================================================================================\n",
      "                     coef    std err          t      P>|t|      [0.025      0.975]\n",
      "----------------------------------------------------------------------------------\n",
      "const             -2.5664      0.780     -3.289      0.001      -4.099      -1.033\n",
      "female            -0.3441      0.414     -0.832      0.406      -1.157       0.469\n",
      "educ               0.5631      0.051     10.991      0.000       0.462       0.664\n",
      "exper              0.0209      0.012      1.735      0.083      -0.003       0.045\n",
      "tenure             0.1298      0.021      6.219      0.000       0.089       0.171\n",
      "married            1.7356      0.409      4.240      0.000       0.931       2.540\n",
      "married*female    -2.3578      0.533     -4.421      0.000      -3.406      -1.310\n",
      "numdep             0.0891      0.108      0.827      0.409      -0.123       0.301\n",
      "nonwhite          -0.2142      0.421     -0.509      0.611      -1.041       0.612\n",
      "==============================================================================\n",
      "Omnibus:                      183.094   Durbin-Watson:                   1.771\n",
      "Prob(Omnibus):                  0.000   Jarque-Bera (JB):              679.683\n",
      "Skew:                           1.578   Prob(JB):                    2.56e-148\n",
      "Kurtosis:                       7.588   Cond. No.                         163.\n",
      "==============================================================================\n",
      "\n",
      "Warnings:\n",
      "[1] Standard Errors assume that the covariance matrix of the errors is correctly specified.\n"
     ]
    }
   ],
   "source": [
    "x = df[['female','educ','exper','tenure','married','married*female','numdep','nonwhite']]\n",
    "x = sm.add_constant(x)\n",
    "y = df[\"wage\"]\n",
    "mod = sm.OLS(y, x)\n",
    "res=mod.fit()\n",
    "print(res.summary())"
   ]
  },
  {
   "cell_type": "code",
   "execution_count": 9,
   "metadata": {},
   "outputs": [
    {
     "name": "stdout",
     "output_type": "stream",
     "text": [
      "                            OLS Regression Results                            \n",
      "==============================================================================\n",
      "Dep. Variable:                   wage   R-squared:                       0.393\n",
      "Model:                            OLS   Adj. R-squared:                  0.385\n",
      "Method:                 Least Squares   F-statistic:                     47.92\n",
      "Date:                Fri, 30 Nov 2018   Prob (F-statistic):           2.23e-52\n",
      "Time:                        10:10:58   Log-Likelihood:                -1301.7\n",
      "No. Observations:                 526   AIC:                             2619.\n",
      "Df Residuals:                     518   BIC:                             2654.\n",
      "Df Model:                           7                                         \n",
      "Covariance Type:            nonrobust                                         \n",
      "==================================================================================\n",
      "                     coef    std err          t      P>|t|      [0.025      0.975]\n",
      "----------------------------------------------------------------------------------\n",
      "const             -2.6032      0.776     -3.353      0.001      -4.129      -1.078\n",
      "female            -0.3495      0.413     -0.845      0.398      -1.162       0.463\n",
      "educ               0.5645      0.051     11.043      0.000       0.464       0.665\n",
      "exper              0.0208      0.012      1.729      0.084      -0.003       0.044\n",
      "tenure             0.1297      0.021      6.220      0.000       0.089       0.171\n",
      "married            1.7387      0.409      4.251      0.000       0.935       2.542\n",
      "married*female    -2.3426      0.532     -4.402      0.000      -3.388      -1.297\n",
      "numdep             0.0853      0.107      0.794      0.428      -0.126       0.296\n",
      "==============================================================================\n",
      "Omnibus:                      183.622   Durbin-Watson:                   1.772\n",
      "Prob(Omnibus):                  0.000   Jarque-Bera (JB):              686.089\n",
      "Skew:                           1.580   Prob(JB):                    1.04e-149\n",
      "Kurtosis:                       7.617   Cond. No.                         162.\n",
      "==============================================================================\n",
      "\n",
      "Warnings:\n",
      "[1] Standard Errors assume that the covariance matrix of the errors is correctly specified.\n"
     ]
    }
   ],
   "source": [
    "x = df[['female','educ','exper','tenure','married','married*female','numdep']]\n",
    "x = sm.add_constant(x)\n",
    "y = df[\"wage\"]\n",
    "mod = sm.OLS(y, x)\n",
    "res=mod.fit()\n",
    "print(res.summary())"
   ]
  },
  {
   "cell_type": "code",
   "execution_count": 10,
   "metadata": {},
   "outputs": [
    {
     "name": "stdout",
     "output_type": "stream",
     "text": [
      "                            OLS Regression Results                            \n",
      "==============================================================================\n",
      "Dep. Variable:                   wage   R-squared:                       0.392\n",
      "Model:                            OLS   Adj. R-squared:                  0.385\n",
      "Method:                 Least Squares   F-statistic:                     55.84\n",
      "Date:                Fri, 30 Nov 2018   Prob (F-statistic):           3.90e-53\n",
      "Time:                        10:11:22   Log-Likelihood:                -1302.1\n",
      "No. Observations:                 526   AIC:                             2618.\n",
      "Df Residuals:                     519   BIC:                             2648.\n",
      "Df Model:                           6                                         \n",
      "Covariance Type:            nonrobust                                         \n",
      "==================================================================================\n",
      "                     coef    std err          t      P>|t|      [0.025      0.975]\n",
      "----------------------------------------------------------------------------------\n",
      "const             -2.3942      0.730     -3.279      0.001      -3.829      -0.960\n",
      "female            -0.3085      0.410     -0.752      0.452      -1.114       0.497\n",
      "educ               0.5529      0.049     11.293      0.000       0.457       0.649\n",
      "exper              0.0190      0.012      1.607      0.109      -0.004       0.042\n",
      "tenure             0.1298      0.021      6.228      0.000       0.089       0.171\n",
      "married            1.8219      0.395      4.610      0.000       1.045       2.598\n",
      "married*female    -2.3953      0.528     -4.538      0.000      -3.432      -1.358\n",
      "==============================================================================\n",
      "Omnibus:                      184.455   Durbin-Watson:                   1.775\n",
      "Prob(Omnibus):                  0.000   Jarque-Bera (JB):              694.903\n",
      "Skew:                           1.585   Prob(JB):                    1.27e-151\n",
      "Kurtosis:                       7.654   Cond. No.                         160.\n",
      "==============================================================================\n",
      "\n",
      "Warnings:\n",
      "[1] Standard Errors assume that the covariance matrix of the errors is correctly specified.\n"
     ]
    }
   ],
   "source": [
    "x = df[['female','educ','exper','tenure','married','married*female']]\n",
    "x = sm.add_constant(x)\n",
    "y = df[\"wage\"]\n",
    "mod = sm.OLS(y, x)\n",
    "res=mod.fit()\n",
    "print(res.summary())"
   ]
  },
  {
   "cell_type": "code",
   "execution_count": 12,
   "metadata": {},
   "outputs": [
    {
     "name": "stdout",
     "output_type": "stream",
     "text": [
      "                            OLS Regression Results                            \n",
      "==============================================================================\n",
      "Dep. Variable:                   wage   R-squared:                       0.392\n",
      "Model:                            OLS   Adj. R-squared:                  0.386\n",
      "Method:                 Least Squares   F-statistic:                     66.95\n",
      "Date:                Fri, 30 Nov 2018   Prob (F-statistic):           5.98e-54\n",
      "Time:                        10:11:44   Log-Likelihood:                -1302.4\n",
      "No. Observations:                 526   AIC:                             2617.\n",
      "Df Residuals:                     520   BIC:                             2642.\n",
      "Df Model:                           5                                         \n",
      "Covariance Type:            nonrobust                                         \n",
      "==================================================================================\n",
      "                     coef    std err          t      P>|t|      [0.025      0.975]\n",
      "----------------------------------------------------------------------------------\n",
      "const             -2.5838      0.685     -3.772      0.000      -3.929      -1.238\n",
      "educ               0.5539      0.049     11.323      0.000       0.458       0.650\n",
      "exper              0.0186      0.012      1.575      0.116      -0.005       0.042\n",
      "tenure             0.1305      0.021      6.271      0.000       0.090       0.171\n",
      "married            2.0010      0.315      6.346      0.000       1.382       2.620\n",
      "married*female    -2.7011      0.337     -8.025      0.000      -3.362      -2.040\n",
      "==============================================================================\n",
      "Omnibus:                      183.421   Durbin-Watson:                   1.774\n",
      "Prob(Omnibus):                  0.000   Jarque-Bera (JB):              683.606\n",
      "Skew:                           1.579   Prob(JB):                    3.60e-149\n",
      "Kurtosis:                       7.606   Cond. No.                         135.\n",
      "==============================================================================\n",
      "\n",
      "Warnings:\n",
      "[1] Standard Errors assume that the covariance matrix of the errors is correctly specified.\n"
     ]
    }
   ],
   "source": [
    "x = df[['educ','exper','tenure','married','married*female']]\n",
    "x = sm.add_constant(x)\n",
    "y = df[\"wage\"]\n",
    "mod = sm.OLS(y, x)\n",
    "res=mod.fit()\n",
    "print(res.summary())"
   ]
  },
  {
   "cell_type": "code",
   "execution_count": 13,
   "metadata": {},
   "outputs": [
    {
     "name": "stdout",
     "output_type": "stream",
     "text": [
      "                            OLS Regression Results                            \n",
      "==============================================================================\n",
      "Dep. Variable:                   wage   R-squared:                       0.389\n",
      "Model:                            OLS   Adj. R-squared:                  0.384\n",
      "Method:                 Least Squares   F-statistic:                     82.83\n",
      "Date:                Fri, 30 Nov 2018   Prob (F-statistic):           2.10e-54\n",
      "Time:                        10:11:55   Log-Likelihood:                -1303.6\n",
      "No. Observations:                 526   AIC:                             2617.\n",
      "Df Residuals:                     521   BIC:                             2639.\n",
      "Df Model:                           4                                         \n",
      "Covariance Type:            nonrobust                                         \n",
      "==================================================================================\n",
      "                     coef    std err          t      P>|t|      [0.025      0.975]\n",
      "----------------------------------------------------------------------------------\n",
      "const             -2.0888      0.610     -3.427      0.001      -3.286      -0.891\n",
      "educ               0.5276      0.046     11.455      0.000       0.437       0.618\n",
      "tenure             0.1457      0.018      7.897      0.000       0.109       0.182\n",
      "married            2.1077      0.308      6.834      0.000       1.502       2.714\n",
      "married*female    -2.6693      0.336     -7.933      0.000      -3.330      -2.008\n",
      "==============================================================================\n",
      "Omnibus:                      184.341   Durbin-Watson:                   1.776\n",
      "Prob(Omnibus):                  0.000   Jarque-Bera (JB):              682.533\n",
      "Skew:                           1.591   Prob(JB):                    6.16e-149\n",
      "Kurtosis:                       7.584   Cond. No.                         68.5\n",
      "==============================================================================\n",
      "\n",
      "Warnings:\n",
      "[1] Standard Errors assume that the covariance matrix of the errors is correctly specified.\n"
     ]
    }
   ],
   "source": [
    "x = df[['educ','tenure','married','married*female']]\n",
    "x = sm.add_constant(x)\n",
    "y = df[\"wage\"]\n",
    "mod = sm.OLS(y, x)\n",
    "res=mod.fit()\n",
    "print(res.summary())"
   ]
  },
  {
   "cell_type": "markdown",
   "metadata": {},
   "source": [
    "I just iteratively removed the feature with the highest p-value until all the features satisfy 95% confidence. Except for the final iteration, adjusted R-squared increased every time."
   ]
  },
  {
   "cell_type": "markdown",
   "metadata": {},
   "source": [
    "## 4.14"
   ]
  },
  {
   "cell_type": "code",
   "execution_count": 22,
   "metadata": {},
   "outputs": [
    {
     "name": "stdout",
     "output_type": "stream",
     "text": [
      "Features that give optimal AIC:\n",
      "['educ', 'exper', 'tenure', 'married', 'married*female']\n",
      "AIC: 2616.70234852\n",
      "\n",
      "Features that give optimal BIC:\n",
      "['educ', 'tenure', 'married', 'married*female']\n",
      "BIC: 2638.53368103\n"
     ]
    }
   ],
   "source": [
    "features = ['female','educ','exper','tenure','married','married*female','numdep','nonwhite']\n",
    "#Prime AIC and BIC with using all features\n",
    "smallest_AIC = 2621.\n",
    "smallest_BIC = 2660.\n",
    "best_aic_subset, best_bic_subset = features, features\n",
    "for num_features in range(1, len(features)+1):\n",
    "    for subset in combinations(features, num_features):\n",
    "        if num_features == 1:\n",
    "            subset = [subset[0]]\n",
    "        else:\n",
    "            subset = list(subset)\n",
    "        x = df[subset]\n",
    "        x = sm.add_constant(x)\n",
    "        y = df[\"wage\"]\n",
    "        model = sm.OLS(y, x).fit()\n",
    "        if model.aic < smallest_AIC:\n",
    "            smallest_AIC = model.aic\n",
    "            best_aic_subset = subset\n",
    "        if model.bic < smallest_BIC:\n",
    "            smallest_BIC = model.bic\n",
    "            best_bic_subset = subset\n",
    "print(\"Features that give optimal AIC:\")\n",
    "print(best_aic_subset)\n",
    "print(\"AIC:\", smallest_AIC)\n",
    "print(\"\\nFeatures that give optimal BIC:\")\n",
    "print(best_bic_subset)\n",
    "print(\"BIC:\", smallest_BIC)"
   ]
  },
  {
   "cell_type": "markdown",
   "metadata": {},
   "source": [
    "## 4.15"
   ]
  },
  {
   "cell_type": "code",
   "execution_count": 29,
   "metadata": {},
   "outputs": [
    {
     "data": {
      "text/plain": [
       "True"
      ]
     },
     "execution_count": 29,
     "metadata": {},
     "output_type": "execute_result"
    }
   ],
   "source": [
    "regr = linear_model.LinearRegression()\n",
    "X = df[['female','educ','exper','tenure','married','married*female','numdep','nonwhite']]\n",
    "y = df['wage']\n",
    "regr.fit(X,y)\n",
    "X = sm.add_constant(X)\n",
    "model = sm.OLS(y, X).fit()\n",
    "model.params\n",
    "np.allclose(model.params[1:], regr.coef_)"
   ]
  },
  {
   "cell_type": "markdown",
   "metadata": {},
   "source": [
    "The coefficients are the same across the two methods."
   ]
  },
  {
   "cell_type": "markdown",
   "metadata": {},
   "source": [
    "## 4.16"
   ]
  },
  {
   "cell_type": "code",
   "execution_count": 31,
   "metadata": {},
   "outputs": [
    {
     "data": {
      "text/plain": [
       "LinearRegression(copy_X=True, fit_intercept=True, n_jobs=1, normalize=False)"
      ]
     },
     "execution_count": 31,
     "metadata": {},
     "output_type": "execute_result"
    }
   ],
   "source": [
    "regr1, regr2 = linear_model.LinearRegression(), linear_model.LinearRegression()\n",
    "X_train, X_test, y_train, y_test = train_test_split(X, y, test_size=0.30, random_state=42)\n",
    "X2 = df[['educ','tenure','married','married*female']]\n",
    "X2_train, X2_test = train_test_split(X2, y, test_size=0.30, random_state=42)[:2]\n",
    "regr1.fit(X_train, y_train)\n",
    "regr2.fit(X2_train, y_train)"
   ]
  },
  {
   "cell_type": "code",
   "execution_count": 37,
   "metadata": {},
   "outputs": [
    {
     "name": "stdout",
     "output_type": "stream",
     "text": [
      "MSE for model 1: 0.367215035919\n",
      "MSE for model 2: 0.373546929158\n"
     ]
    }
   ],
   "source": [
    "print(\"MSE for model 1:\", regr1.score(X_test, y_test))\n",
    "print(\"MSE for model 2:\", regr2.score(X2_test, y_test))"
   ]
  },
  {
   "cell_type": "markdown",
   "metadata": {},
   "source": [
    "Model 1 has better MSE."
   ]
  },
  {
   "cell_type": "markdown",
   "metadata": {},
   "source": [
    "## 4.17"
   ]
  },
  {
   "cell_type": "code",
   "execution_count": 47,
   "metadata": {},
   "outputs": [
    {
     "name": "stdout",
     "output_type": "stream",
     "text": [
      "Model 1 average MSE: 0.347358242791\n",
      "Model 2 average MSE: 0.351723210891\n"
     ]
    }
   ],
   "source": [
    "kf = KFold(n_splits=7, shuffle=True, random_state=16)\n",
    "MSEs_1, MSEs_2 = list(), list()\n",
    "for train_index, test_index in kf.split(X):\n",
    "    regr1, regr2 = linear_model.LinearRegression(), linear_model.LinearRegression()\n",
    "    X_train, X_test = X.values[train_index], X.values[test_index]\n",
    "    X2_train, X2_test = X2.values[train_index], X2.values[test_index]\n",
    "    y_train, y_test = y.values[train_index], y.values[test_index]\n",
    "    regr1.fit(X_train, y_train)\n",
    "    regr2.fit(X2_train, y_train)\n",
    "    MSEs_1.append(regr1.score(X_test, y_test))\n",
    "    MSEs_2.append(regr2.score(X2_test, y_test))\n",
    "print(\"Model 1 average MSE:\", np.mean(MSEs_1))\n",
    "print(\"Model 2 average MSE:\", np.mean(MSEs_2))"
   ]
  },
  {
   "cell_type": "markdown",
   "metadata": {},
   "source": [
    "Model 1 has better MSE."
   ]
  }
 ],
 "metadata": {
  "kernelspec": {
   "display_name": "Python 3",
   "language": "python",
   "name": "python3"
  },
  "language_info": {
   "codemirror_mode": {
    "name": "ipython",
    "version": 3
   },
   "file_extension": ".py",
   "mimetype": "text/x-python",
   "name": "python",
   "nbconvert_exporter": "python",
   "pygments_lexer": "ipython3",
   "version": "3.6.1"
  }
 },
 "nbformat": 4,
 "nbformat_minor": 2
}
