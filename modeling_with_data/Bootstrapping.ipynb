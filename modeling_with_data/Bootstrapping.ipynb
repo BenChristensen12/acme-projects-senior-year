{
 "cells": [
  {
   "cell_type": "markdown",
   "metadata": {},
   "source": [
    "    Ben Christensen\n",
    "    October 17, 2018\n",
    "    Wasserman Chapter 8"
   ]
  },
  {
   "cell_type": "code",
   "execution_count": 1,
   "metadata": {
    "collapsed": true
   },
   "outputs": [],
   "source": [
    "import numpy as np\n",
    "from scipy.stats import norm\n",
    "from matplotlib import pyplot as plt"
   ]
  },
  {
   "cell_type": "markdown",
   "metadata": {},
   "source": [
    "## Problem 1"
   ]
  },
  {
   "cell_type": "code",
   "execution_count": 2,
   "metadata": {},
   "outputs": [
    {
     "name": "stdout",
     "output_type": "stream",
     "text": [
      "Correlation coefficient: 0.776374491289\n"
     ]
    }
   ],
   "source": [
    "#Initialize observations of LSAT scores and GPA\n",
    "LSAT = np.array([576, 635, 558, 578, 666, 580, 555, 661, \n",
    "                 651, 605, 653, 575, 545, 572, 594])\n",
    "GPA =  np.array([3.39, 3.30, 2.81, 3.03, 3.44, 3.07, 3.00, 3.43,\n",
    "                 3.36, 3.13, 3.12, 2.74, 2.76, 2.88, 2.96])\n",
    "\n",
    "X = zip(LSAT, GPA)\n",
    "#Calculate the plug-in estimate for the correlation coefficient\n",
    "def T(y,z):\n",
    "    y_bar, z_bar = np.mean(y), np.mean(z)\n",
    "    return np.sum((y-y_bar)*(z-z_bar)) / np.sqrt(np.sum((y-y_bar)**2)*np.sum((z-z_bar)**2))\n",
    "\n",
    "theta_hat = T(LSAT, GPA)\n",
    "print(\"Correlation coefficient:\", theta_hat)"
   ]
  },
  {
   "cell_type": "code",
   "execution_count": 3,
   "metadata": {},
   "outputs": [
    {
     "name": "stdout",
     "output_type": "stream",
     "text": [
      "Approximate standard error: 0.130955735353\n"
     ]
    }
   ],
   "source": [
    "#Calculate the approximate standard error using bootstrap with \n",
    "#    B = 1000\n",
    "B = 1000\n",
    "#Draw a Bootstrap sample\n",
    "def Bootstrap(x,y,B=1000):\n",
    "    T_n = []\n",
    "    B_y = []\n",
    "    B_z = []\n",
    "    for i in range(B):\n",
    "        mask = np.random.randint(0, len(x), len(x))\n",
    "        B_y = x[mask]\n",
    "        B_z = y[mask]\n",
    "        T_n.append(T(B_y, B_z))\n",
    "    return np.array(T_n)\n",
    "\n",
    "T_n = Bootstrap(LSAT,GPA,B)\n",
    "def std_err(x,y,B=1000):\n",
    "    T_n = Bootstrap(x,y,B)\n",
    "    v_B = (1/B)*np.sum((T_n - (1/B)*np.sum(T_n))**2)\n",
    "    return np.sqrt(v_B)\n",
    "    \n",
    "se_B = std_err(LSAT, GPA)\n",
    "print(\"Approximate standard error:\", se_B)\n",
    "    \n"
   ]
  },
  {
   "cell_type": "code",
   "execution_count": 4,
   "metadata": {
    "scrolled": true
   },
   "outputs": [
    {
     "name": "stdout",
     "output_type": "stream",
     "text": [
      "95% Normal-Based confidence interval:\n",
      "(0.519705966428, 1.03304301615)\n"
     ]
    }
   ],
   "source": [
    "#Calculate the normal-based 95 percent confidence interval\n",
    "def norm_itvl(alpha):\n",
    "    L = theta_hat - norm.ppf(1-alpha/2)*se_B\n",
    "    U = theta_hat + norm.ppf(1-alpha/2)*se_B\n",
    "    return L, U\n",
    "\n",
    "L, U = norm_itvl(.05)\n",
    "print(\"95% Normal-Based confidence interval:\")\n",
    "print(\"(\", L, \", \", U, \")\", sep='')"
   ]
  },
  {
   "cell_type": "code",
   "execution_count": 5,
   "metadata": {},
   "outputs": [
    {
     "name": "stdout",
     "output_type": "stream",
     "text": [
      "95% Pivotal Confidence Interval:\n",
      "(0.589239397098, 1.06935491734)\n"
     ]
    }
   ],
   "source": [
    "#Calculate the pivotal 95 percent confidence interval\n",
    "alpha = .05\n",
    "#Find the 1-alpha/2 sample quantile and alpha/2 sample quantile\n",
    "#    of the Bootstrap versions of the plug-inestimates.\n",
    "def Pivot(alpha, T_n):\n",
    "    Theta_stars = np.sort(T_n)\n",
    "    L_index = len(T_n)*(1-alpha/2)\n",
    "    theta_L = Theta_stars[int(L_index)]\n",
    "    R_index = len(T_n)*alpha/2\n",
    "    theta_R = Theta_stars[int(R_index)]\n",
    "    L = 2*theta_hat - theta_L\n",
    "    U = 2*theta_hat - theta_R\n",
    "    return L, U, theta_L, theta_R\n",
    "\n",
    "L, U = Pivot(alpha, T_n)[:2]\n",
    "print(\"95% Pivotal Confidence Interval:\")\n",
    "print(\"(\", L, \", \", U, \")\", sep='')"
   ]
  },
  {
   "cell_type": "code",
   "execution_count": 6,
   "metadata": {},
   "outputs": [
    {
     "name": "stdout",
     "output_type": "stream",
     "text": [
      "95% Percentile Confidence Interval:\n",
      "(0.483394065236, 0.963509585481)\n"
     ]
    }
   ],
   "source": [
    "#Calculate the Percentile 95 percent confidence interval\n",
    "alpha = .05\n",
    "U,L = Pivot(alpha, T_n)[2:]\n",
    "print(\"95% Percentile Confidence Interval:\")\n",
    "print(\"(\", L, \", \", U, \")\", sep='')"
   ]
  },
  {
   "cell_type": "markdown",
   "metadata": {},
   "source": [
    "## Problem 2"
   ]
  },
  {
   "cell_type": "code",
   "execution_count": 7,
   "metadata": {},
   "outputs": [
    {
     "name": "stdout",
     "output_type": "stream",
     "text": [
      "95% Normal confidence interval:\n",
      "(2.3696450461908127, 2.8829820959132002)\n",
      "95% Pivot confidence interval:\n",
      "(1.717460923160359, 4.2398220435189691)\n",
      "95% Percentile confidence interval:\n",
      "(1.012805098585045, 3.5351662189436537)\n"
     ]
    }
   ],
   "source": [
    "B, n, alpha = 1000, 50, .05\n",
    "#Define the skew linear functional\n",
    "def T(x):\n",
    "    sigma = np.sqrt(np.mean((x - np.mean(x))**2))\n",
    "    return np.mean((x - np.mean(x))**3) / sigma**3\n",
    "#This T(x) is getting blowup for the sample....\n",
    "nL, nU, vL, vU, pL, pU = [], [], [], [], [], []\n",
    "for i in range(1000):\n",
    "    Y = np.random.randn(n)\n",
    "    X = np.exp(Y)\n",
    "    theta_hat = T(X)\n",
    "    T_n = []\n",
    "    B_x = []\n",
    "    #Find 1000 theta* values through Bootstrap samples\n",
    "    for i in range(B):\n",
    "        mask = np.random.randint(0, len(X), len(X))\n",
    "        B_x = X[mask]\n",
    "        T_n.append(T(B_x))\n",
    "    T_n = np.array(T_n)\n",
    "    #Calculate the standard error implicitly used by \n",
    "    #    the interval funcitons called below\n",
    "    s_B = np.sqrt((1/B)*np.sum((T_n - (1/B)*np.sum(T_n))**2))\n",
    "    #Calculate the normal 95% confidence interval\n",
    "    norm_interval = norm_itvl(.05)\n",
    "    nL.append(norm_interval[0])\n",
    "    nU.append(norm_interval[1])\n",
    "    #Calculate the Pivot 95% confidence interval\n",
    "    pvt_interval = Pivot(.05, T_n)[:2]\n",
    "    vL.append(pvt_interval[0])\n",
    "    vU.append(pvt_interval[1])\n",
    "    #Calculate the Percentile 95% confidence interval\n",
    "    pct_interval = Pivot(.05, T_n)[2:][::-1]\n",
    "    pL.append(pct_interval[0])\n",
    "    pU.append(pct_interval[1])\n",
    "    \n",
    "normal = np.mean(nL), np.mean(nU)\n",
    "pivot = np.mean(vL), np.mean(vU)\n",
    "percentile = np.mean(pL), np.mean(pU)\n",
    "\n",
    "print(\"95% Normal confidence interval:\")\n",
    "print(normal)\n",
    "print(\"95% Pivot confidence interval:\")\n",
    "print(pivot)\n",
    "print(\"95% Percentile confidence interval:\")\n",
    "print(percentile)"
   ]
  },
  {
   "cell_type": "markdown",
   "metadata": {},
   "source": [
    "Above, I calculate the 3 types of boot-strap confidence intervals 1000 times and take the average lower and upper bounds for the estimated true coverage of the 3 intervals."
   ]
  },
  {
   "cell_type": "markdown",
   "metadata": {},
   "source": [
    "## Problem 6"
   ]
  },
  {
   "cell_type": "markdown",
   "metadata": {},
   "source": [
    "## a)"
   ]
  },
  {
   "cell_type": "code",
   "execution_count": 8,
   "metadata": {},
   "outputs": [
    {
     "name": "stdout",
     "output_type": "stream",
     "text": [
      "Approximation for standard error:\n",
      "13.4828053644\n",
      "95% Normal confidence interval:\n",
      "(119.12461064534902, 171.97623649506298)\n",
      "Theta hat: 145.55042357\n",
      "Theta: 148.413159103\n"
     ]
    }
   ],
   "source": [
    "mu, n = 5, 100\n",
    "X = np.random.normal(mu, 1, n)\n",
    "theta = np.exp(mu)\n",
    "def T(x):\n",
    "    return np.exp(np.mean(x))\n",
    "theta_hat = T(X)\n",
    "#Find 1000 theta* values using 1000 bootstrap samples size n==100\n",
    "T_n = []\n",
    "B_y = []\n",
    "B_z = []\n",
    "for i in range(B):\n",
    "    mask = np.random.randint(0, len(X), len(X))\n",
    "    B_x = X[mask]\n",
    "    T_n.append(T(B_x))\n",
    "\n",
    "T_n = np.array(T_n)\n",
    "se_B = np.sqrt((1/B)*np.sum((T_n - (1/B)*np.sum(T_n))**2))\n",
    "norm_interval = norm_itvl(.05)\n",
    "print(\"Approximation for standard error:\")\n",
    "print(se_B)\n",
    "print(\"95% Normal confidence interval:\")\n",
    "print(norm_interval)\n",
    "print(\"Theta hat:\", theta_hat)\n",
    "print(\"Theta:\", theta)"
   ]
  },
  {
   "cell_type": "markdown",
   "metadata": {},
   "source": [
    "## b)"
   ]
  },
  {
   "cell_type": "code",
   "execution_count": 9,
   "metadata": {},
   "outputs": [
    {
     "data": {
      "image/png": "[encoded data removed]",
      "text/plain": [
       "<Figure size 432x288 with 2 Axes>"
      ]
     },
     "metadata": {},
     "output_type": "display_data"
    }
   ],
   "source": [
    "#Histogram of the true distribution of theta hat\n",
    "theta_hats = []\n",
    "for i in range(1000):\n",
    "    X = np.random.normal(mu, 1, n)\n",
    "    theta_hats.append(T(X))\n",
    "plt.subplot(211)\n",
    "plt.hist(theta_hats, label=\"Theta hats\")\n",
    "plt.title(\"Distribution of Theta Hat\")\n",
    "plt.ylabel(\"Frequency\")\n",
    "plt.legend()\n",
    "#Histogram of the bootstrap replications\n",
    "plt.subplot(212)\n",
    "plt.hist(T_n, label=\"Bootstrap Replications\")\n",
    "#plt.vlines(theta_hat, 0, 350, label=\"Theta hat\")\n",
    "#plt.title(\"Histogram of the Bootstrap Replications of Theta Hat\")\n",
    "plt.xlabel(\"Bootstrap Replications of Theta Hat\")\n",
    "plt.ylabel(\"Frequency\")\n",
    "#plt.ylim(0,300)\n",
    "plt.legend()\n",
    "plt.show()"
   ]
  },
  {
   "cell_type": "markdown",
   "metadata": {},
   "source": [
    "## Problem 7"
   ]
  },
  {
   "cell_type": "markdown",
   "metadata": {},
   "source": [
    "## a)"
   ]
  },
  {
   "cell_type": "code",
   "execution_count": 10,
   "metadata": {},
   "outputs": [
    {
     "name": "stdout",
     "output_type": "stream",
     "text": [
      "Approximation for standard error:\n",
      "0.0209453400767\n",
      "95% Normal confidence interval:\n",
      "(0.95875893460107531, 1.0408631589897757)\n",
      "Theta hat: 0.999811046795\n",
      "Theta: 1\n"
     ]
    }
   ],
   "source": [
    "theta, n = 1, 50\n",
    "X = np.random.uniform(0, theta, n)\n",
    "T = lambda x: np.max(x)\n",
    "theta_hat = T(X)\n",
    "#Find 1000 theta* values using 1000 bootstrap samples size n==100\n",
    "T_n = []\n",
    "B_y = []\n",
    "B_z = []\n",
    "for i in range(B):\n",
    "    mask = np.random.randint(0, len(X), len(X))\n",
    "    B_x = X[mask]\n",
    "    T_n.append(T(B_x))\n",
    "    \n",
    "T_n = np.array(T_n)\n",
    "se_B = np.sqrt((1/B)*np.sum((T_n - (1/B)*np.sum(T_n))**2))\n",
    "norm_interval = norm_itvl(.05)\n",
    "print(\"Approximation for standard error:\")\n",
    "print(se_B)\n",
    "print(\"95% Normal confidence interval:\")\n",
    "print(norm_interval)\n",
    "print(\"Theta hat:\", theta_hat)\n",
    "print(\"Theta:\", theta)"
   ]
  },
  {
   "cell_type": "code",
   "execution_count": 11,
   "metadata": {
    "scrolled": false
   },
   "outputs": [
    {
     "data": {
      "image/png": "[encoded data removed]",
      "text/plain": [
       "<Figure size 432x288 with 2 Axes>"
      ]
     },
     "metadata": {},
     "output_type": "display_data"
    }
   ],
   "source": [
    "#Histogram of the true distribution of theta hat\n",
    "theta_hats = []\n",
    "for i in range(1000):\n",
    "    X = np.random.uniform(0, theta, n)\n",
    "    theta_hats.append(T(X))\n",
    "plt.subplot(211)\n",
    "plt.hist(theta_hats, label=\"Theta hats\")\n",
    "plt.title(\"Distribution of Theta Hat\")\n",
    "plt.ylabel(\"Frequency\")\n",
    "plt.legend()\n",
    "#Histogram of the bootstrap replications\n",
    "plt.subplot(212)\n",
    "plt.hist(T_n, label=\"Bootstrap Replications\")\n",
    "#plt.vlines(theta_hat, 0, 350, label=\"Theta hat\")\n",
    "#plt.title(\"Histogram of the Bootstrap Replications of Theta Hat\")\n",
    "plt.xlabel(\"Bootstrap Replications of Theta Hat\")\n",
    "plt.ylabel(\"Frequency\")\n",
    "#plt.ylim(0,300)\n",
    "plt.legend()\n",
    "plt.show()"
   ]
  }
 ],
 "metadata": {
  "kernelspec": {
   "display_name": "Python 3",
   "language": "python",
   "name": "python3"
  },
  "language_info": {
   "codemirror_mode": {
    "name": "ipython",
    "version": 3
   },
   "file_extension": ".py",
   "mimetype": "text/x-python",
   "name": "python",
   "nbconvert_exporter": "python",
   "pygments_lexer": "ipython3",
   "version": "3.6.1"
  }
 },
 "nbformat": 4,
 "nbformat_minor": 2
}
