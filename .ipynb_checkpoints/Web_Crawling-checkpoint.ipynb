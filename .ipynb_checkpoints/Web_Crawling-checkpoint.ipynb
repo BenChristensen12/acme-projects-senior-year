{
 "cells": [
  {
   "cell_type": "markdown",
   "metadata": {},
   "source": [
    "    Ben Christensen\n",
    "    Math 403\n",
    "    October 1, 2018"
   ]
  },
  {
   "cell_type": "markdown",
   "metadata": {},
   "source": [
    "Scrape data from websites using BeautifulSoup and Selenium"
   ]
  },
  {
   "cell_type": "code",
   "execution_count": 1,
   "metadata": {
    "collapsed": true
   },
   "outputs": [],
   "source": [
    "import re\n",
    "import time\n",
    "import requests\n",
    "from bs4 import BeautifulSoup\n",
    "from selenium import webdriver\n",
    "from selenium.webdriver.common.keys import Keys\n",
    "from selenium.common.exceptions import NoSuchElementException\n",
    "from matplotlib import pyplot as plt\n",
    "import numpy as np"
   ]
  },
  {
   "cell_type": "code",
   "execution_count": 2,
   "metadata": {
    "collapsed": true
   },
   "outputs": [],
   "source": [
    "# Problem 1\n",
    "def scrape_books(start_page = \"index.html\"):\n",
    "    \"\"\" Crawl through http://books.toscrape.com and extract fiction data\"\"\"\n",
    "\n",
    "    # Initialize variables, including a regex for finding the 'next' link.\n",
    "    base_url=\"http://books.toscrape.com/catalogue/category/books/fiction_10/\"\n",
    "    price_total = []\n",
    "    count_total = []\n",
    "    page = base_url + start_page                # Complete page URL.\n",
    "    next_page_finder = re.compile(r\"next\")      # We need this button.\n",
    "    current = None\n",
    "\n",
    "    for _ in range(4):\n",
    "        total = 0\n",
    "        count = 0\n",
    "\n",
    "        while current == None:                   # Try downloading until it works.\n",
    "            # Download the page source and PAUSE before continuing.\n",
    "            page_source = requests.get(page).text\n",
    "            time.sleep(1)           # PAUSE before continuing.\n",
    "            soup = BeautifulSoup(page_source, \"html.parser\")\n",
    "            current = soup.find_all(class_=\"price_color\")\n",
    "\n",
    "        #Extract the price data.\n",
    "        for price in current:\n",
    "            total += float(price.string.strip(\"Â£\"))\n",
    "            count += 1\n",
    "\n",
    "        price_total.append(total)\n",
    "        count_total.append(count)\n",
    "\n",
    "\n",
    "        if \"page-4\" not in page:\n",
    "            # Find the URL for the page with the next data.\n",
    "            new_page = soup.find(string=next_page_finder).parent[\"href\"]\n",
    "            page = base_url + new_page      # New complete page URL.\n",
    "            current = None\n",
    "        else:\n",
    "            # Calculate the price average\n",
    "            average_price = sum(price_total)/sum(count_total)\n",
    "    return average_price\n",
    "\n",
    "# Problem 2\n",
    "def bank_data():\n",
    "    \"\"\"Crawl through the Federal Reserve site and extract bank data.\"\"\"\n",
    "    # Compile regular expressions for finding certain tags.\n",
    "    link_finder = re.compile(r\"^December 31, 20((0[4-9])|(1[0-8]))$\")\n",
    "    chase_bank_finder = re.compile(r\"^JPMORGAN CHASE BK\")\n",
    "    america_bank_finder = re.compile(r\"^BANK OF AMER\")\n",
    "    fargo_bank_finder = re.compile(r\"^WELLS FARGO BK\")\n",
    "\n",
    "    # Get the base page and find the URLs to all other relevant pages.\n",
    "    base_url=\"https://www.federalreserve.gov/releases/lbr/\"\n",
    "    base_page_source = requests.get(base_url).text\n",
    "    base_soup = BeautifulSoup(base_page_source, \"html.parser\")\n",
    "    link_tags = base_soup.find_all(name='a', href=True, string=link_finder)\n",
    "    pages = [base_url + tag.attrs[\"href\"] for tag in link_tags]\n",
    "\n",
    "    # Crawl through the individual pages and record the data.\n",
    "    chase_assets = []\n",
    "    america_assets = []\n",
    "    fargo_assets = []\n",
    "    for page in pages:\n",
    "        time.sleep(1)               # PAUSE, then request the page.\n",
    "        soup = BeautifulSoup(requests.get(page).text, \"html.parser\")\n",
    "\n",
    "        # Find the tag corresponding to Chase Banks's consolidated assets.\n",
    "        temp_tag1 = soup.find(name=\"td\", string=chase_bank_finder)\n",
    "        temp_tag2 = soup.find(name=\"td\", string=america_bank_finder)\n",
    "        temp_tag3 = soup.find(name=\"td\", string=fargo_bank_finder)\n",
    "        for _ in range(10):\n",
    "            temp_tag1 = temp_tag1.next_sibling\n",
    "            temp_tag2 = temp_tag2.next_sibling\n",
    "            temp_tag3 = temp_tag3.next_sibling\n",
    "        # Extract the data, removing commas.\n",
    "        chase_assets.append(int(temp_tag1.string.replace(',', '')))\n",
    "        america_assets.append(int(temp_tag2.string.replace(',', '')))\n",
    "        fargo_assets.append(int(temp_tag3.string.replace(',', '')))\n",
    "\n",
    "    years = np.arange(2004, 2018)\n",
    "    #Plot the total consolidated assets for these banks from 2004-2018\n",
    "    plt.plot(years, chase_assets, label=\"JPMorgan Chase\")\n",
    "    plt.plot(years, america_assets, label=\"Bank of America\")\n",
    "    plt.plot(years, fargo_assets, label=\"Wells Fargo\")\n",
    "    plt.title(\"Total Consolidated Assets of Several Banks from 2004-2018\")\n",
    "    plt.xlabel(\"year\")\n",
    "    plt.ylabel(\"Millions of Dollars\")\n",
    "    plt.legend()\n",
    "    plt.tight_layout()\n",
    "    plt.show()\n",
    "\n",
    "\n",
    "\n",
    "# Problem 3\n",
    "def prob3():\n",
    "    \"\"\"ESPN hosts data on NBA athletes at\n",
    "    http://www.espn.go.com/nba/statistics. Each player has their own page with\n",
    "    detailed performance statistics. For each of the five offensive leaders in\n",
    "    points and each of the five defensive leaders in rebounds, extract the\n",
    "    player’s career minutes per game (MPG) and career points per game (PPG).\n",
    "    Make a scatter plot of MPG against PPG for these ten players.\n",
    "    \"\"\"\n",
    "    #The next season is given by the link with class_ == \"button2 next\"\n",
    "    link_finder = re.compile(r\"^button2 next$\")\n",
    "    name_finder = re.compile(r\"[A-Za-z]+ [A-Za-z]+ •\")\n",
    "    points_finder = re.compile(r\"\\d+[^.]\")\n",
    "    base_url= \"https://www.basketball-reference.com/\"\n",
    "    page = base_url + \"leagues/NBA_2009_leaders.html\"\n",
    "    base_page_source = requests.get(base_url).text\n",
    "    soup = BeautifulSoup(base_page_source, \"html.parser\")\n",
    "    #Prime  lists to return\n",
    "    names = []\n",
    "    points = []\n",
    "    seasons=[]\n",
    "    for i in range(8,18):\n",
    "        if i == 8:\n",
    "            seasons.append(\"2008-09\")\n",
    "        elif i == 9:\n",
    "            seasons.append(\"2009-10\")\n",
    "        else:\n",
    "            seasons.append(\"20\"+str(i)+\"-\"+str(i+1))\n",
    "    for year in np.arange(2008,2018):\n",
    "        #Wait a second to scrape the page\n",
    "        time.sleep(1)\n",
    "        soup = BeautifulSoup(requests.get(page).text, \"html.parser\")\n",
    "        #Find the player with the most points\n",
    "        tag = soup.find(name=\"caption\", attrs={\"data-tip\":\"Points\"})\n",
    "        names.append(name_finder.search(tag.next_sibling.next_sibling.text).group()[:-2])\n",
    "        points.append(points_finder.search(tag.next_sibling.next_sibling.text).group()[:-1])\n",
    "        #Go to the next page (season)\n",
    "        link_tag = soup.find(name='a', href=True, class_=link_finder)\n",
    "        page = base_url + link_tag.attrs[\"href\"]\n",
    "\n",
    "    return [(seasons[i], names[i], int(points[i])) for i in range(10)]\n",
    "\n",
    "\n",
    "\n",
    "# Problem 4\n",
    "def prob4(search_query):\n",
    "    \"\"\"Use Selenium to enter the given search query into the search bar of\n",
    "    https://arxiv.org and press Enter. The resulting page has up to 25 links\n",
    "    to the PDFs of technical papers that match the query. Gather these URLs,\n",
    "    then continue to the next page (if there are more results) and continue\n",
    "    gathering links until obtaining at most 100 URLs. Return the list of URLs.\n",
    "\n",
    "    Returns:\n",
    "        (list): Up to 100 URLs that lead directly to PDFs on arXiv.\n",
    "    \"\"\"\n",
    "    #Open a Chrome browser window\n",
    "    browser = webdriver.Chrome()\n",
    "    base_url = \"https://arxiv.org/\"\n",
    "    try:\n",
    "        #Navigate to to the archive we want to search\n",
    "        browser.get(base_url)\n",
    "        try:\n",
    "            #Get the search bar and search for the string provided as input\n",
    "            search_bar = browser.find_element_by_name(\"query\")\n",
    "            search_bar.clear()\n",
    "            search_bar.send_keys(search_query)\n",
    "            search_bar.send_keys(Keys.RETURN)\n",
    "        except NoSuchElementException:\n",
    "            print(\"Could not find the search bar!\")\n",
    "            raise\n",
    "        #Create a BeautifulSoup object of the html source code to find and\n",
    "        #   manipulate tags.\n",
    "        soup = BeautifulSoup(browser.page_source, \"html.parser\")\n",
    "        pdf_links = [tag[\"href\"] for tag in soup.find_all(name=\"a\", string=\"pdf\")]\n",
    "        while len(pdf_links) < 150:\n",
    "            #Go to the next page\n",
    "            next_page_link = base_url + soup.find(name='a', class_=\"pagination-next\").attrs[\"href\"]\n",
    "            browser.get(next_page_link)\n",
    "            soup = BeautifulSoup(browser.page_source, \"html.parser\")\n",
    "            #Append the links of every pdf on the new page\n",
    "            for tag in soup.find_all(name='a', string='pdf'):\n",
    "                pdf_links.append(tag[\"href\"])\n",
    "\n",
    "    finally:\n",
    "        #Close the browser\n",
    "        browser.close()\n",
    "\n",
    "    return pdf_links[:150]\n",
    "\n",
    "\n",
    "# Problem 5\n",
    "def prob5():\n",
    "    \"\"\"For each of the (at least) 600 problems in the archive at\n",
    "    https://projecteuler.net/archives, record the problem ID and the number of\n",
    "    people who have solved it. Return a list of IDs, sorted from largest to\n",
    "    smallest by the number of people who have solved them. That is, the first\n",
    "    entry in the list should be the ID of the most solved problem, and the\n",
    "    last entry in the list should be the ID of the least solved problem.\n",
    "\n",
    "    Returns:\n",
    "        (list): problem IDs (as strings), from most solved to least solved.\n",
    "    \"\"\"\n",
    "    base_url = \"https://projecteuler.net/archives\"\n",
    "    #IDs for each problem\n",
    "    IDs = [str(i) for i in range(1,628)]\n",
    "    descriptions = []\n",
    "    num_solvers = []\n",
    "    #Find all of the pages we need to use\n",
    "    pages = [base_url]\n",
    "    for i in range(2,14):\n",
    "        pages.append(base_url + \";page=\" + str(i))\n",
    "    #Open a browser\n",
    "    browser = webdriver.Chrome()\n",
    "\n",
    "    try:\n",
    "        for i, page in enumerate(pages):\n",
    "            #Navigate to projecteuler.net\n",
    "            browser.get(page)\n",
    "            soup = BeautifulSoup(browser.page_source, \"html.parser\")\n",
    "            #Get description and number of solvers for each problem on the page\n",
    "            for ID in range(1 + i*50, 51 + i*50):\n",
    "                link_name = \"problem=\" + str(ID)\n",
    "                try:\n",
    "                    descriptions.append(soup.find(name='a', href=link_name).string)\n",
    "                except Exception as e:\n",
    "                    if ID > 627:\n",
    "                        break\n",
    "                    else:\n",
    "                        print(\"We ran into an unexpected error: \", e)\n",
    "                        raise\n",
    "            #Find the number of solvers for each problem on the page\n",
    "            tags = soup.find_all(name='div', attrs={\"style\":\"text-align:center;\"})\n",
    "            for tag in tags:\n",
    "                num_solvers.append(int(tag.string))\n",
    "    finally:\n",
    "        browser.close()\n",
    "\n",
    "    #Sort our lists of IDs and number of solvers in order from most solved to\n",
    "    #   least solved.\n",
    "    num_solvers, IDs = (list(t) for t in zip(*sorted(zip(num_solvers, IDs))))\n",
    "    return IDs[::-1]\n",
    "\n"
   ]
  },
  {
   "cell_type": "code",
   "execution_count": 3,
   "metadata": {},
   "outputs": [
    {
     "name": "stdout",
     "output_type": "stream",
     "text": [
      "Average price of fiction books on toscrape.com:\n",
      "36.06661538461538\n"
     ]
    }
   ],
   "source": [
    "print(\"Average price of fiction books on toscrape.com:\")\n",
    "print(scrape_books())\n",
    "\n"
   ]
  },
  {
   "cell_type": "code",
   "execution_count": 4,
   "metadata": {},
   "outputs": [
    {
     "data": {
      "image/png": "[encoded data removed]",
      "text/plain": [
       "<Figure size 432x288 with 1 Axes>"
      ]
     },
     "metadata": {},
     "output_type": "display_data"
    }
   ],
   "source": [
    "bank_data()"
   ]
  },
  {
   "cell_type": "code",
   "execution_count": 5,
   "metadata": {},
   "outputs": [
    {
     "name": "stdout",
     "output_type": "stream",
     "text": [
      "Top scoring NBA players for the past 10 seasons:\n",
      "Season |    Name    | Points\n",
      "2008-09 Dwyane Wade 2386\n",
      "2009-10 Kevin Durant 2472\n",
      "2010-11 Kevin Durant 2161\n",
      "2011-12 Kevin Durant 1850\n",
      "2012-13 Kevin Durant 2280\n",
      "2013-14 Kevin Durant 2593\n",
      "2014-15 James Harden 2217\n",
      "2015-16 James Harden 2376\n",
      "2016-17 Russell Westbrook 2558\n",
      "2017-18 LeBron James 2251\n"
     ]
    }
   ],
   "source": [
    "print(\"Top scoring NBA players for the past 10 seasons:\")\n",
    "results = prob3()\n",
    "seasons = [entry[0] for entry in results]\n",
    "names = [entry[1] for entry in results]\n",
    "points = [entry[2] for entry in results]\n",
    "print(\"Season |    Name    | Points\")\n",
    "for i, season in enumerate(seasons):\n",
    "    print(season, names[i], points[i])"
   ]
  },
  {
   "cell_type": "code",
   "execution_count": 6,
   "metadata": {},
   "outputs": [
    {
     "name": "stdout",
     "output_type": "stream",
     "text": [
      "Links for the top 10 articles from arxiv.org on Pareto efficiency.\n",
      "['https://arxiv.org/pdf/1810.04650', 'https://arxiv.org/pdf/1810.04331', 'https://arxiv.org/pdf/1810.04259', 'https://arxiv.org/pdf/1810.03522', 'https://arxiv.org/pdf/1810.02990', 'https://arxiv.org/pdf/1810.00440', 'https://arxiv.org/pdf/1810.00031', 'https://arxiv.org/pdf/1809.10766', 'https://arxiv.org/pdf/1809.08489', 'https://arxiv.org/pdf/1809.06106']\n"
     ]
    }
   ],
   "source": [
    "print(\"Links for the top 10 articles from arxiv.org on Pareto efficiency.\")\n",
    "print(prob4(\"Pareto Efficiency\")[:10])\n"
   ]
  },
  {
   "cell_type": "code",
   "execution_count": 7,
   "metadata": {},
   "outputs": [
    {
     "name": "stdout",
     "output_type": "stream",
     "text": [
      "Problem 5: All of the problems on projecteuler.net from most solved to least solved.\n",
      "['1', '2', '3', '6', '5', '4', '7', '9', '8', '10', '11', '16', '13', '14', '12', '20', '15', '25', '17', '21', '18', '19', '22', '24', '48', '30', '28', '29', '23', '67', '34', '36', '27', '35', '31', '26', '40', '42', '37', '39', '33', '45', '32', '41', '52', '38', '50', '46', '43', '53', '56', '44', '49', '47', '55', '97', '63', '79', '92', '59', '57', '58', '54', '81', '69', '51', '62', '99', '65', '71', '76', '74', '60', '73', '61', '85', '112', '206', '72', '70', '102', '64', '89', '82', '87', '68', '80', '66', '77', '83', '75', '96', '145', '78', '104', '100', '91', '205', '95', '124', '120', '125', '108', '86', '84', '119', '116', '94', '123', '93', '179', '187', '113', '98', '117', '101', '107', '90', '114', '115', '88', '121', '243', '173', '203', '110', '109', '105', '103', '122', '204', '357', '131', '191', '111', '134', '118', '188', '132', '135', '129', '106', '301', '144', '127', '174', '130', '142', '138', '164', '231', '136', '139', '133', '151', '162', '137', '214', '235', '345', '148', '197', '169', '146', '128', '207', '149', '183', '126', '225', '493', '265', '140', '190', '211', '387', '347', '216', '166', '381', '150', '346', '141', '215', '172', '323', '158', '303', '155', '500', '160', '267', '234', '178', '159', '193', '277', '315', '218', '185', '250', '230', '147', '293', '348', '297', '186', '504', '171', '143', '157', '182', '168', '249', '154', '152', '165', '153', '209', '317', '196', '202', '351', '587', '329', '401', '429', '549', '271', '213', '156', '200', '220', '201', '407', '233', '240', '286', '304', '227', '222', '221', '189', '161', '336', '181', '170', '491', '199', '176', '349', '239', '226', '163', '232', '175', '208', '210', '321', '266', '167', '288', '307', '358', '601', '184', '371', '313', '259', '192', '237', '180', '258', '219', '359', '217', '229', '223', '389', '247', '274', '518', '268', '287', '343', '291', '212', '425', '194', '607', '516', '512', '273', '251', '228', '195', '451', '613', '260', '244', '248', '577', '284', '177', '224', '333', '501', '285', '365', '479', '327', '461', '306', '198', '300', '276', '340', '310', '485', '363', '263', '242', '443', '280', '622', '278', '253', '463', '290', '435', '531', '510', '282', '238', '254', '571', '236', '281', '341', '272', '294', '241', '255', '318', '375', '312', '449', '320', '523', '430', '252', '245', '458', '506', '342', '417', '246', '378', '308', '309', '302', '539', '393', '581', '256', '618', '386', '392', '437', '262', '473', '279', '457', '605', '561', '469', '298', '269', '395', '609', '364', '527', '521', '324', '455', '283', '377', '261', '257', '418', '374', '270', '316', '396', '305', '555', '299', '275', '360', '543', '366', '390', '411', '352', '292', '421', '431', '296', '332', '325', '487', '264', '405', '399', '388', '368', '565', '408', '540', '356', '595', '339', '548', '480', '612', '355', '394', '452', '370', '537', '600', '326', '314', '330', '509', '337', '335', '615', '380', '575', '383', '610', '379', '419', '289', '367', '353', '350', '295', '621', '369', '334', '545', '433', '604', '362', '624', '525', '412', '322', '432', '517', '400', '454', '311', '616', '498', '497', '423', '593', '598', '551', '409', '354', '436', '515', '602', '372', '475', '588', '476', '420', '467', '319', '456', '328', '511', '625', '442', '331', '406', '569', '520', '424', '413', '530', '402', '552', '474', '617', '398', '603', '373', '403', '619', '384', '441', '606', '382', '583', '440', '434', '445', '519', '338', '439', '460', '596', '404', '446', '492', '361', '533', '611', '572', '538', '344', '503', '448', '563', '526', '415', '513', '385', '462', '623', '582', '550', '466', '391', '438', '614', '532', '557', '464', '410', '535', '534', '499', '444', '397', '608', '416', '414', '599', '427', '422', '496', '376', '536', '592', '472', '528', '426', '570', '502', '468', '484', '477', '574', '567', '560', '486', '447', '428', '568', '590', '490', '488', '627', '522', '495', '459', '564', '481', '558', '576', '470', '580', '453', '542', '586', '508', '471', '524', '482', '465', '546', '505', '489', '556', '547', '626', '578', '544', '494', '514', '450', '554', '529', '553', '507', '620', '573', '541', '483', '594', '562', '478', '589', '591', '559', '584', '585', '566', '597', '579']\n"
     ]
    }
   ],
   "source": [
    "print(\"Problem 5: All of the problems on projecteuler.net from most solved to least solved.\")\n",
    "print(prob5())"
   ]
  }
 ],
 "metadata": {
  "kernelspec": {
   "display_name": "Python 3",
   "language": "python",
   "name": "python3"
  },
  "language_info": {
   "codemirror_mode": {
    "name": "ipython",
    "version": 3
   },
   "file_extension": ".py",
   "mimetype": "text/x-python",
   "name": "python",
   "nbconvert_exporter": "python",
   "pygments_lexer": "ipython3",
   "version": "3.6.1"
  }
 },
 "nbformat": 4,
 "nbformat_minor": 2
}
