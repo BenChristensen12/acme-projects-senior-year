{
 "cells": [
  {
   "cell_type": "markdown",
   "metadata": {},
   "source": [
    "# Volume 3: Pandas 1\n",
    "    Ben Christensen\n",
    "    Math 403\n",
    "    October 5, 2018"
   ]
  },
  {
   "cell_type": "code",
   "execution_count": 1,
   "metadata": {
    "collapsed": true
   },
   "outputs": [],
   "source": [
    "import numpy as np\n",
    "import pandas as pd\n",
    "from matplotlib import pyplot as plt\n",
    "\n",
    "%matplotlib inline"
   ]
  },
  {
   "cell_type": "markdown",
   "metadata": {},
   "source": [
    "## Problem 1\n"
   ]
  },
  {
   "cell_type": "code",
   "execution_count": 2,
   "metadata": {},
   "outputs": [],
   "source": [
    "filename = \"/Users/benchristensen/Desktop/ACME Python Labs/Volume3/Pandas1/crime_data.csv\"\n",
    "df = pd.read_csv(filename, index_col = 0, skip_blank_lines = True)"
   ]
  },
  {
   "cell_type": "markdown",
   "metadata": {},
   "source": [
    "## Problem 2\n",
    "\n"
   ]
  },
  {
   "cell_type": "code",
   "execution_count": 3,
   "metadata": {
    "scrolled": false
   },
   "outputs": [
    {
     "data": {
      "text/html": [
       "<div>\n",
       "<style>\n",
       "    .dataframe thead tr:only-child th {\n",
       "        text-align: right;\n",
       "    }\n",
       "\n",
       "    .dataframe thead th {\n",
       "        text-align: left;\n",
       "    }\n",
       "\n",
       "    .dataframe tbody tr th {\n",
       "        vertical-align: top;\n",
       "    }\n",
       "</style>\n",
       "<table border=\"1\" class=\"dataframe\">\n",
       "  <thead>\n",
       "    <tr style=\"text-align: right;\">\n",
       "      <th></th>\n",
       "      <th>Population</th>\n",
       "      <th>Total</th>\n",
       "      <th>Violent</th>\n",
       "      <th>Property</th>\n",
       "      <th>Murder</th>\n",
       "      <th>Forcible Rape</th>\n",
       "      <th>Robbery</th>\n",
       "      <th>Aggravated Assault</th>\n",
       "      <th>Burglary</th>\n",
       "      <th>Larceny</th>\n",
       "      <th>Vehicle Theft</th>\n",
       "      <th>Rate</th>\n",
       "    </tr>\n",
       "  </thead>\n",
       "  <tbody>\n",
       "    <tr>\n",
       "      <th>count</th>\n",
       "      <td>5.700000e+01</td>\n",
       "      <td>5.700000e+01</td>\n",
       "      <td>57.000000</td>\n",
       "      <td>57.000000</td>\n",
       "      <td>57.000000</td>\n",
       "      <td>57.000000</td>\n",
       "      <td>57.000000</td>\n",
       "      <td>57.000000</td>\n",
       "      <td>57.000000</td>\n",
       "      <td>57.000000</td>\n",
       "      <td>57.000000</td>\n",
       "      <td>57.000000</td>\n",
       "    </tr>\n",
       "    <tr>\n",
       "      <th>mean</th>\n",
       "      <td>2.488181e+08</td>\n",
       "      <td>1.055356e+07</td>\n",
       "      <td>0.109324</td>\n",
       "      <td>0.890511</td>\n",
       "      <td>0.001710</td>\n",
       "      <td>0.006747</td>\n",
       "      <td>0.038258</td>\n",
       "      <td>0.062361</td>\n",
       "      <td>0.231930</td>\n",
       "      <td>0.561886</td>\n",
       "      <td>0.096701</td>\n",
       "      <td>0.042369</td>\n",
       "    </tr>\n",
       "    <tr>\n",
       "      <th>std</th>\n",
       "      <td>4.326907e+07</td>\n",
       "      <td>3.129618e+06</td>\n",
       "      <td>0.017375</td>\n",
       "      <td>0.017551</td>\n",
       "      <td>0.000319</td>\n",
       "      <td>0.001446</td>\n",
       "      <td>0.004766</td>\n",
       "      <td>0.014932</td>\n",
       "      <td>0.041628</td>\n",
       "      <td>0.030905</td>\n",
       "      <td>0.013211</td>\n",
       "      <td>0.011865</td>\n",
       "    </tr>\n",
       "    <tr>\n",
       "      <th>min</th>\n",
       "      <td>1.793232e+08</td>\n",
       "      <td>3.384200e+06</td>\n",
       "      <td>0.077131</td>\n",
       "      <td>0.860569</td>\n",
       "      <td>0.001334</td>\n",
       "      <td>0.004295</td>\n",
       "      <td>0.028342</td>\n",
       "      <td>0.041365</td>\n",
       "      <td>0.164647</td>\n",
       "      <td>0.498721</td>\n",
       "      <td>0.069843</td>\n",
       "      <td>0.018872</td>\n",
       "    </tr>\n",
       "    <tr>\n",
       "      <th>25%</th>\n",
       "      <td>2.113920e+08</td>\n",
       "      <td>9.202093e+06</td>\n",
       "      <td>0.095063</td>\n",
       "      <td>0.875980</td>\n",
       "      <td>0.001456</td>\n",
       "      <td>0.005403</td>\n",
       "      <td>0.035149</td>\n",
       "      <td>0.045600</td>\n",
       "      <td>0.191531</td>\n",
       "      <td>0.540251</td>\n",
       "      <td>0.086872</td>\n",
       "      <td>0.033504</td>\n",
       "    </tr>\n",
       "    <tr>\n",
       "      <th>50%</th>\n",
       "      <td>2.458070e+08</td>\n",
       "      <td>1.134970e+07</td>\n",
       "      <td>0.112714</td>\n",
       "      <td>0.887286</td>\n",
       "      <td>0.001619</td>\n",
       "      <td>0.007031</td>\n",
       "      <td>0.038324</td>\n",
       "      <td>0.065365</td>\n",
       "      <td>0.231134</td>\n",
       "      <td>0.554383</td>\n",
       "      <td>0.099355</td>\n",
       "      <td>0.041544</td>\n",
       "    </tr>\n",
       "    <tr>\n",
       "      <th>75%</th>\n",
       "      <td>2.879739e+08</td>\n",
       "      <td>1.297440e+07</td>\n",
       "      <td>0.123191</td>\n",
       "      <td>0.904939</td>\n",
       "      <td>0.001976</td>\n",
       "      <td>0.007938</td>\n",
       "      <td>0.041836</td>\n",
       "      <td>0.075503</td>\n",
       "      <td>0.271660</td>\n",
       "      <td>0.590298</td>\n",
       "      <td>0.106644</td>\n",
       "      <td>0.052873</td>\n",
       "    </tr>\n",
       "    <tr>\n",
       "      <th>max</th>\n",
       "      <td>3.231275e+08</td>\n",
       "      <td>1.487290e+07</td>\n",
       "      <td>0.139431</td>\n",
       "      <td>0.922862</td>\n",
       "      <td>0.002692</td>\n",
       "      <td>0.010403</td>\n",
       "      <td>0.046651</td>\n",
       "      <td>0.087264</td>\n",
       "      <td>0.296409</td>\n",
       "      <td>0.618301</td>\n",
       "      <td>0.118542</td>\n",
       "      <td>0.059500</td>\n",
       "    </tr>\n",
       "  </tbody>\n",
       "</table>\n",
       "</div>"
      ],
      "text/plain": [
       "         Population         Total    Violent   Property     Murder  \\\n",
       "count  5.700000e+01  5.700000e+01  57.000000  57.000000  57.000000   \n",
       "mean   2.488181e+08  1.055356e+07   0.109324   0.890511   0.001710   \n",
       "std    4.326907e+07  3.129618e+06   0.017375   0.017551   0.000319   \n",
       "min    1.793232e+08  3.384200e+06   0.077131   0.860569   0.001334   \n",
       "25%    2.113920e+08  9.202093e+06   0.095063   0.875980   0.001456   \n",
       "50%    2.458070e+08  1.134970e+07   0.112714   0.887286   0.001619   \n",
       "75%    2.879739e+08  1.297440e+07   0.123191   0.904939   0.001976   \n",
       "max    3.231275e+08  1.487290e+07   0.139431   0.922862   0.002692   \n",
       "\n",
       "       Forcible Rape    Robbery  Aggravated Assault   Burglary    Larceny  \\\n",
       "count      57.000000  57.000000           57.000000  57.000000  57.000000   \n",
       "mean        0.006747   0.038258            0.062361   0.231930   0.561886   \n",
       "std         0.001446   0.004766            0.014932   0.041628   0.030905   \n",
       "min         0.004295   0.028342            0.041365   0.164647   0.498721   \n",
       "25%         0.005403   0.035149            0.045600   0.191531   0.540251   \n",
       "50%         0.007031   0.038324            0.065365   0.231134   0.554383   \n",
       "75%         0.007938   0.041836            0.075503   0.271660   0.590298   \n",
       "max         0.010403   0.046651            0.087264   0.296409   0.618301   \n",
       "\n",
       "       Vehicle Theft       Rate  \n",
       "count      57.000000  57.000000  \n",
       "mean        0.096701   0.042369  \n",
       "std         0.013211   0.011865  \n",
       "min         0.069843   0.018872  \n",
       "25%         0.086872   0.033504  \n",
       "50%         0.099355   0.041544  \n",
       "75%         0.106644   0.052873  \n",
       "max         0.118542   0.059500  "
      ]
     },
     "execution_count": 3,
     "metadata": {},
     "output_type": "execute_result"
    }
   ],
   "source": [
    "crime_types = [crime_type for crime_type in df.columns[2:]]\n",
    "#Replace values of crime with percents of total crime\n",
    "for crime_type in crime_types:\n",
    "    df[crime_type] = df[crime_type] / df[\"Total\"]\n",
    "#Find total crime rate  \n",
    "df[\"Rate\"] = df[\"Total\"] / df[\"Population\"]\n",
    "df.describe()"
   ]
  },
  {
   "cell_type": "code",
   "execution_count": 4,
   "metadata": {},
   "outputs": [
    {
     "name": "stdout",
     "output_type": "stream",
     "text": [
      "The closest crimes are:\n",
      "['Violent', 'Vehicle Theft']\n",
      "Percent of crime rates below the median: 0.49122807017543857\n"
     ]
    }
   ],
   "source": [
    "#Find the \"closest percentages\"\n",
    "closest_crimes = []\n",
    "smallest_difference = 10000000\n",
    "for i, crime_type in enumerate(crime_types):\n",
    "    x = df[crime_type]\n",
    "    for other_crime in crime_types[i+1:]:\n",
    "        y = df[other_crime]\n",
    "        #Calculate average difference using the midpoint method\n",
    "        avg_difference = np.mean(np.abs(x - y) / (x+y/2))\n",
    "        if avg_difference < smallest_difference:\n",
    "            smallest_difference = avg_difference\n",
    "            closest_crimes = [crime_type, other_crime]\n",
    "            \n",
    "\n",
    "print(\"The closest crimes are:\", closest_crimes, sep=\"\\n\")\n",
    "percent = (df[\"Rate\"] < df.median()[\"Rate\"]).sum() / df[\"Rate\"].count()\n",
    "print(f\"Percent of crime rates below the median: {percent}\")"
   ]
  },
  {
   "cell_type": "markdown",
   "metadata": {},
   "source": [
    "1. The average crime rate is 4.2%. The Crime rate is usually above the median.\n",
    "2. Murder\n",
    "3. The closest percentages are violence and vehicle theft"
   ]
  },
  {
   "cell_type": "code",
   "execution_count": 5,
   "metadata": {
    "scrolled": true
   },
   "outputs": [
    {
     "data": {
      "image/png": "[encoded data removed]",
      "text/plain": [
       "<Figure size 432x288 with 1 Axes>"
      ]
     },
     "metadata": {},
     "output_type": "display_data"
    }
   ],
   "source": [
    "#Show the scatter plot between violent crime and vehicle theft\n",
    "x = np.array(df[\"Violent\"])\n",
    "y = np.array(df[\"Vehicle Theft\"])\n",
    "plt.scatter(x,y)\n",
    "plt.xlabel(\"Violent Crime\")\n",
    "plt.ylabel(\"Vehicle Theft\")\n",
    "plt.title(\"Scatter Plot of Violent Crime and Vehicle Theft\")\n",
    "plt.show()"
   ]
  },
  {
   "cell_type": "code",
   "execution_count": 6,
   "metadata": {},
   "outputs": [
    {
     "data": {
      "image/png": "[encoded data removed]",
      "text/plain": [
       "<Figure size 432x288 with 1 Axes>"
      ]
     },
     "metadata": {},
     "output_type": "display_data"
    }
   ],
   "source": [
    "#Show the time trends of violent crime and vehicle theft\n",
    "time = np.arange(1960, 2017)\n",
    "plt.plot(time, np.array(df[\"Violent\"]), label=\"Violent Crime\")\n",
    "plt.plot(time, np.array(df[\"Vehicle Theft\"]), label=\"Vehicle Theft\")\n",
    "plt.legend()\n",
    "plt.title(\"Time Series Trends\")\n",
    "plt.xlabel(\"Year\")\n",
    "plt.ylabel(\"Percent of Total Crime\")\n",
    "plt.show()"
   ]
  },
  {
   "cell_type": "code",
   "execution_count": 7,
   "metadata": {},
   "outputs": [
    {
     "name": "stdout",
     "output_type": "stream",
     "text": [
      "[[ 1.         -0.13516721]\n",
      " [-0.13516721  1.        ]]\n"
     ]
    }
   ],
   "source": [
    "print(np.corrcoef(x,y))"
   ]
  },
  {
   "cell_type": "markdown",
   "metadata": {},
   "source": [
    "The correlation is -.135 between Violent Crime and Vehicle theft."
   ]
  },
  {
   "cell_type": "markdown",
   "metadata": {},
   "source": [
    "## Problem 3\n"
   ]
  },
  {
   "cell_type": "code",
   "execution_count": 8,
   "metadata": {},
   "outputs": [
    {
     "name": "stdout",
     "output_type": "stream",
     "text": [
      "Violent: 1992\n",
      "Property: 1991\n",
      "Murder: 1991\n",
      "Forcible Rape: 1992\n",
      "Robbery: 1991\n",
      "Aggravated Assault: 1993\n",
      "Burglary: 1980\n",
      "Larceny: 1991\n",
      "Vehicle Theft: 1991\n"
     ]
    }
   ],
   "source": [
    "filename = \"/Users/benchristensen/Desktop/ACME Python Labs/Volume3/Pandas1/crime_data.csv\"\n",
    "df = pd.read_csv(filename, index_col = 0, skip_blank_lines = True)\n",
    "for crime_type in crime_types:\n",
    "    print(crime_type, \": \", df[crime_type].argmax(), sep='')\n",
    "#print(\"Year with the highest crime:\", df[\"Total\"].argmax())"
   ]
  },
  {
   "cell_type": "markdown",
   "metadata": {},
   "source": [
    "1991 is the year where the majority of crimes hit their all-time high."
   ]
  },
  {
   "cell_type": "code",
   "execution_count": 9,
   "metadata": {},
   "outputs": [
    {
     "data": {
      "image/png": "[encoded data removed]",
      "text/plain": [
       "<Figure size 432x288 with 1 Axes>"
      ]
     },
     "metadata": {},
     "output_type": "display_data"
    }
   ],
   "source": [
    "plt.plot(df.index, df[\"Total\"])\n",
    "plt.title(\"Total Crime\")\n",
    "plt.xlabel(\"Year\")\n",
    "plt.ylabel(\"Crime\")\n",
    "plt.show()"
   ]
  },
  {
   "cell_type": "code",
   "execution_count": 10,
   "metadata": {},
   "outputs": [
    {
     "name": "stdout",
     "output_type": "stream",
     "text": [
      "Decade with the most total crime is 1990-1999\n"
     ]
    }
   ],
   "source": [
    "decade_sum = 0\n",
    "for year in range(1960, 2020, 10):\n",
    "    total = df.loc[range(year, year+10), \"Total\"].sum()\n",
    "    if total > decade_sum:\n",
    "        ans = year\n",
    "        decade_sum = total\n",
    "        \n",
    "print(f\"Decade with the most total crime is {ans}-{ans+9}\")"
   ]
  },
  {
   "cell_type": "code",
   "execution_count": 11,
   "metadata": {},
   "outputs": [
    {
     "name": "stdout",
     "output_type": "stream",
     "text": [
      "The crime that was committed most in the 1960s was \"Property\"\n"
     ]
    }
   ],
   "source": [
    "print(f\"The crime that was committed most in the 1960s was \\\"{df.loc[range(1960,1970),'Violent':].sum().argmax()}\\\"\")"
   ]
  },
  {
   "cell_type": "markdown",
   "metadata": {},
   "source": [
    "1. 1991\n",
    "2. 1990s\n",
    "3. Property"
   ]
  },
  {
   "cell_type": "markdown",
   "metadata": {},
   "source": [
    "## Problem 4\n"
   ]
  },
  {
   "cell_type": "code",
   "execution_count": 12,
   "metadata": {
    "collapsed": true
   },
   "outputs": [],
   "source": [
    "filename = \"/Users/benchristensen/Desktop/ACME Python Labs/Volume3/Pandas1/crime_data.csv\"\n",
    "df = pd.read_csv(filename, index_col = 0, skip_blank_lines = True)\n",
    "crime_types = [crime_type for crime_type in df.columns[2:]]\n",
    "#Replace values of crime with percents of total crime\n",
    "for crime_type in crime_types:\n",
    "    df[crime_type] = df[crime_type] / df[\"Total\"]\n",
    "    "
   ]
  },
  {
   "cell_type": "code",
   "execution_count": 13,
   "metadata": {
    "collapsed": true
   },
   "outputs": [],
   "source": [
    "#Create dataframe satisfying conditions posed in problem\n",
    "df1 = df[((df[\"Property\"] < .9) & (df[\"Burglary\"]>.2)) | ((df[\"Property\"] < .9) & (df[\"Violent\"]>.2))]"
   ]
  },
  {
   "cell_type": "markdown",
   "metadata": {},
   "source": [
    "## Problem 5\n",
    "\n",
    "\n"
   ]
  },
  {
   "cell_type": "code",
   "execution_count": 14,
   "metadata": {
    "collapsed": true
   },
   "outputs": [],
   "source": [
    "#Import the two dataframes\n",
    "accidents = pd.read_pickle(\"/Users/benchristensen/Desktop/ACME Python Labs/Volume3/Pandas1/final_accidents2.pickle\")\n",
    "drivers = pd.read_pickle(\"/Users/benchristensen/Desktop/ACME Python Labs/Volume3/Pandas1/final_drivers.pickle\")\n",
    "#Create two merged dataframes\n",
    "df1 = pd.merge(accidents, drivers, on='ST_CASE')[[\"ST_CASE\", \"AGE\", \"DRINKING\", \"DRUNK_DR\", \"FATALS\"]]\n",
    "df2 = pd.merge(accidents, drivers, on='ST_CASE')[[\"ST_CASE\", \"AGE\", \"FATALS\", \"SP\", \"SPEEDREL\"]]"
   ]
  },
  {
   "cell_type": "markdown",
   "metadata": {},
   "source": [
    "## Problem 6\n",
    "\n"
   ]
  },
  {
   "cell_type": "code",
   "execution_count": 15,
   "metadata": {},
   "outputs": [
    {
     "name": "stdout",
     "output_type": "stream",
     "text": [
      "1.0\n",
      "309343\n",
      "0    4\n",
      "Name: SPEEDREL, dtype: int64\n",
      "0.31077401309105823\n"
     ]
    }
   ],
   "source": [
    "#Create a third dataframe because the first two weren't enough\n",
    "df3 = pd.merge(accidents, drivers, on='ST_CASE')\n",
    "#Problems 1-5\n",
    "print(df3.mode()[\"WEATHER\"].iloc[0])\n",
    "print(df2[df2[\"SP\"] == 1].count()[0])\n",
    "print(df2[(df2[\"SPEEDREL\"]>=2) & (df2[\"SPEEDREL\"] <= 4)].mode()[\"SPEEDREL\"])\n",
    "print(df3[\"DRUNK_DR\"].mean())"
   ]
  },
  {
   "cell_type": "code",
   "execution_count": 16,
   "metadata": {},
   "outputs": [
    {
     "name": "stdout",
     "output_type": "stream",
     "text": [
      "2010: 7\n",
      "2011: 7\n",
      "2012: 7\n",
      "2013: 8\n",
      "2014: 10\n"
     ]
    }
   ],
   "source": [
    "years = range(2010, 2015)\n",
    "#for each year find the month that has the most fatalities\n",
    "\n",
    "for year in years:\n",
    "    max_fatals = 0\n",
    "    for month in range(1, 13):\n",
    "        fatals = accidents[(accidents[\"YEAR\"] == year) & (accidents[\"MONTH\"] == month)].sum()[\"FATALS\"]\n",
    "        if fatals > max_fatals:\n",
    "            danger_month = month\n",
    "            max_fatals = fatals\n",
    "    print(year, \": \", danger_month, sep='')"
   ]
  },
  {
   "cell_type": "markdown",
   "metadata": {},
   "source": [
    "1. Clear\n",
    "2. 309343\n",
    "3. Too fast for conditions\n",
    "4. .311\n",
    "5. \n",
    "Month with the most fatalities for each year:\n",
    "2010: July\n",
    "\n",
    "2011: July\n",
    "\n",
    "2012: July\n",
    "\n",
    "2013: August\n",
    "\n",
    "2014: October\n"
   ]
  },
  {
   "cell_type": "code",
   "execution_count": null,
   "metadata": {
    "collapsed": true
   },
   "outputs": [],
   "source": []
  }
 ],
 "metadata": {
  "kernelspec": {
   "display_name": "Python 3",
   "language": "python",
   "name": "python3"
  },
  "language_info": {
   "codemirror_mode": {
    "name": "ipython",
    "version": 3
   },
   "file_extension": ".py",
   "mimetype": "text/x-python",
   "name": "python",
   "nbconvert_exporter": "python",
   "pygments_lexer": "ipython3",
   "version": "3.6.1"
  }
 },
 "nbformat": 4,
 "nbformat_minor": 2
}
