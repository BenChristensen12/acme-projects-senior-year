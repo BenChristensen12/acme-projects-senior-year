{
 "cells": [
  {
   "cell_type": "markdown",
   "metadata": {},
   "source": [
    "    Ben Christensen\n",
    "    Math 403\n",
    "    9/6/18"
   ]
  },
  {
   "cell_type": "markdown",
   "metadata": {},
   "source": [
    "Use regular expressions to format data to a standard form."
   ]
  },
  {
   "cell_type": "code",
   "execution_count": 1,
   "metadata": {
    "collapsed": true
   },
   "outputs": [],
   "source": [
    "import re"
   ]
  },
  {
   "cell_type": "code",
   "execution_count": 2,
   "metadata": {
    "collapsed": true
   },
   "outputs": [],
   "source": [
    "# Problem 1\n",
    "def prob1():\n",
    "    \"\"\"Compile and return a regular expression pattern object with the\n",
    "    pattern string \"python\".\n",
    "\n",
    "    Returns:\n",
    "        (_sre.SRE_Pattern): a compiled regular expression pattern object.\n",
    "    \"\"\"\n",
    "    return re.compile(\"python\")\n",
    "\n",
    "# Problem 2\n",
    "def prob2():\n",
    "    \"\"\"Compile and return a regular expression pattern object that matches\n",
    "    the string \"^{@}(?)[%]{.}(*)[_]{&}$\".\n",
    "\n",
    "    Returns:\n",
    "        (_sre.SRE_Pattern): a compiled regular expression pattern object.\n",
    "    \"\"\"\n",
    "    return re.compile(r\"\\^\\{@\\}\\(\\?\\)\\[%\\]\\{\\.\\}\\(\\*\\)\\[_\\]\\{&\\}\\$\")\n",
    "\n",
    "\n",
    "# Problem 3\n",
    "def prob3():\n",
    "    \"\"\"Compile and return a regular expression pattern object that matches\n",
    "    the following strings (and no other strings).\n",
    "\n",
    "        Book store          Mattress store          Grocery store\n",
    "        Book supplier       Mattress supplier       Grocery supplier\n",
    "\n",
    "    Returns:\n",
    "        (_sre.SRE_Pattern): a compiled regular expression pattern object.\n",
    "    \"\"\"\n",
    "    return re.compile(r\"^(Book|Mattress|Grocery) (store|supplier)$\")\n",
    "\n",
    "# Problem 4\n",
    "def prob4():\n",
    "    \"\"\"Compile and return a regular expression pattern object that matches\n",
    "    any valid Python identifier.\n",
    "\n",
    "    Returns:\n",
    "        (_sre.SRE_Pattern): a compiled regular expression pattern object.\n",
    "    \"\"\"\n",
    "\n",
    "    return re.compile(r\"(^[a-zA-Z_][\\w_]*$)|(^[a-zA-Z_][\\w_]* *= *((\\d+\\.?\\d*$)|('[^']*'$)|([a-zA-Z_][\\w_]*$)))\")\n",
    "# Problem 5\n",
    "def prob5(code):\n",
    "    \"\"\"Use regular expressions to place colons in the appropriate spots of the\n",
    "    input string, representing Python code. You may assume that every possible\n",
    "    colon is missing in the input string.\n",
    "\n",
    "    Parameters:\n",
    "        code (str): a string of Python code without any colons.\n",
    "\n",
    "    Returns:\n",
    "        (str): code, but with the colons inserted in the right places.\n",
    "    \"\"\"\n",
    "\n",
    "    new_code = []\n",
    "    key_words = [\"if\", \"elif\", \"else\", \"for\", \"while\", \"try\", \"except\", \"finally\"\n",
    "                 \"with\", \"def\", \"class\"]\n",
    "    for line in code.splitlines():\n",
    "        for word in key_words:\n",
    "            key_word_finder = re.compile(\"(\\s\" + word + \".*)\")\n",
    "            string = \"\\\\1:\"\n",
    "            if bool(key_word_finder.search(line)):\n",
    "                line = key_word_finder.sub(string, line)\n",
    "        new_code.append(line)\n",
    "\n",
    "    modified_code = \"\"\n",
    "    for line in new_code:\n",
    "        modified_code += line + \"\\n\"\n",
    "\n",
    "    return modified_code\n",
    "\n",
    "\n",
    "# Problem 6\n",
    "def prob6(filname=\"fake_contacts.txt\"):\n",
    "    \"\"\"Use regular expressions to parse the data in the given file and format\n",
    "    it uniformly, writing birthdays as mm/dd/yyyy and phone numbers as\n",
    "    (xxx)xxx-xxxx. Construct a dictionary where the key is the name of an\n",
    "    individual and the value is another dictionary containing their\n",
    "    information. Each of these inner dictionaries should have the keys\n",
    "    \"birthday\", \"email\", and \"phone\". In the case of missing data, map the key\n",
    "    to None.\n",
    "\n",
    "    Returns:\n",
    "        (dict): a dictionary mapping names to a dictionary of personal info.\n",
    "    \"\"\"\n",
    "    with open(filname, 'r') as infile:\n",
    "        text = infile.readlines()\n",
    "    contact_data = dict()\n",
    "    #Create search functions for email, birthday, phone, and name\n",
    "    s_email = re.compile(r\"\\w+(\\.\\w+)*@\\w+(\\.\\w+)*\")\n",
    "    s_birthday = re.compile(r\"(\\d{1,2})/(\\d{1,2})/\\d{2}(\\d{2})?\")\n",
    "    s_phone = re.compile(r\"(1?-?)\\(?\\d{3}\\)?-?\\d{3}-?\\d{4}\")\n",
    "    s_name = re.compile(r\"[A-Za-z]+\\.?( [A-Za-z]+\\.?)*\")\n",
    "    #Create substitution functions for email, birthday, and phone to match standardization\n",
    "    names, emails, birthdays, phones = [], [], [], []\n",
    "    for line in text:\n",
    "        #Gather email, birthday, and phone from each entry and leave only name\n",
    "        email = s_email.search(line).group() if bool(s_email.search(line)) else None\n",
    "        line = s_email.sub(\"\", line)\n",
    "        birthday = s_birthday.search(line).group() if bool(s_birthday.search(line)) else None\n",
    "        line = s_birthday.sub(\"\", line)\n",
    "        phone = s_phone.search(line).group() if bool(s_phone.search(line)) else None\n",
    "        line = s_phone.sub(\"\", line)\n",
    "        #Now gather the name, the only thing remaining.\n",
    "        name = s_name.search(line).group()\n",
    "        #Standardize the phone number if there is a phone number\n",
    "        if phone is not None:\n",
    "            while phone[1] == \"-\" or phone[0] == \"-\":\n",
    "                phone = phone[1:]\n",
    "            if phone[0] != \"(\":\n",
    "                phone = \"(\" + phone[0:3] + \")\" + phone[4:]\n",
    "        #Standardize the birthday if there is a birthday\n",
    "        if birthday is not None:\n",
    "            if birthday[1] == \"/\":\n",
    "                birthday = \"0\" + birthday\n",
    "            if birthday[4] == \"/\":\n",
    "                birthday = birthday[:3] + \"0\" + birthday[3:]\n",
    "            if len(birthday) < 10:\n",
    "                birthday = birthday[:6] + \"20\" + birthday[6:]\n",
    "\n",
    "        contact_data[name] = {\"birthday\": birthday, \"email\": email, \"phone\": phone}\n",
    "        #This block of code is for testing\n",
    "        names.append(name)\n",
    "        emails.append(email)\n",
    "        birthdays.append(birthday)\n",
    "        phones.append(phone)\n",
    "\n",
    "    return contact_data\n"
   ]
  },
  {
   "cell_type": "code",
   "execution_count": 3,
   "metadata": {},
   "outputs": [
    {
     "data": {
      "text/plain": [
       "{'birthday': '12/10/2049',\n",
       " 'email': 'Aliquam.auctor@vel.com',\n",
       " 'phone': '(873)996-5622'}"
      ]
     },
     "execution_count": 3,
     "metadata": {},
     "output_type": "execute_result"
    }
   ],
   "source": [
    "filename = \"/Users/benchristensen/Desktop/ACME Python Labs/Volume3/RegularExpressions/fake_contacts.txt\"\n",
    "contact_data = prob6(filename)\n",
    "contact_data[\"Uriah Workman\"]"
   ]
  }
 ],
 "metadata": {
  "kernelspec": {
   "display_name": "Python 3",
   "language": "python",
   "name": "python3"
  },
  "language_info": {
   "codemirror_mode": {
    "name": "ipython",
    "version": 3
   },
   "file_extension": ".py",
   "mimetype": "text/x-python",
   "name": "python",
   "nbconvert_exporter": "python",
   "pygments_lexer": "ipython3",
   "version": "3.6.1"
  }
 },
 "nbformat": 4,
 "nbformat_minor": 2
}
